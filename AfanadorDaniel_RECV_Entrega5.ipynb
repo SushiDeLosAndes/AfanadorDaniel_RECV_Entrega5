{
  "nbformat": 4,
  "nbformat_minor": 0,
  "metadata": {
    "colab": {
      "name": "AfanadorDaniel_RECV_Entrega5.ipynb",
      "provenance": []
    },
    "kernelspec": {
      "name": "python3",
      "display_name": "Python 3"
    },
    "language_info": {
      "name": "python"
    }
  },
  "cells": [
    {
      "cell_type": "markdown",
      "metadata": {
        "id": "E-wWqHDZgyn3"
      },
      "source": [
        "# Reto Empresarial - Ejercicio MNIST - Daniel Afanador"
      ]
    },
    {
      "cell_type": "code",
      "metadata": {
        "colab": {
          "base_uri": "https://localhost:8080/",
          "height": 35
        },
        "id": "O285JFeVniNu",
        "outputId": "9726216e-4f77-40df-f819-a7bac6a39319"
      },
      "source": [
        "# Usamos glob para traer las imágenes de entrenamiento, validación y testeo.\n",
        "from glob import glob\n",
        "\n",
        "train_files = glob('mnist/train/*/*.png')\n",
        "valid_files = glob('mnist/valid/*/*.png')\n",
        "test_files = glob('mnist/test/*/*.png')\n",
        "\n",
        "train_files[0]"
      ],
      "execution_count": 1,
      "outputs": [
        {
          "output_type": "execute_result",
          "data": {
            "application/vnd.google.colaboratory.intrinsic+json": {
              "type": "string"
            },
            "text/plain": [
              "'mnist/train/0/3565.png'"
            ]
          },
          "metadata": {},
          "execution_count": 1
        }
      ]
    },
    {
      "cell_type": "code",
      "metadata": {
        "colab": {
          "base_uri": "https://localhost:8080/"
        },
        "id": "JZqOm7x2oGpM",
        "outputId": "bba04e92-939c-41b9-9455-3956cd33fc4c"
      },
      "source": [
        "# Reorganizamos las posiciones de cada una de las imágenes de entrenamiento,\n",
        "# validación y testeo.\n",
        "\n",
        "import numpy as np\n",
        "\n",
        "np.random.shuffle(train_files)\n",
        "np.random.shuffle(valid_files)\n",
        "np.random.shuffle(test_files)\n",
        "\n",
        "len(train_files), len(valid_files), len(test_files)"
      ],
      "execution_count": 2,
      "outputs": [
        {
          "output_type": "execute_result",
          "data": {
            "text/plain": [
              "(6000, 2000, 992)"
            ]
          },
          "metadata": {},
          "execution_count": 2
        }
      ]
    },
    {
      "cell_type": "code",
      "metadata": {
        "id": "dlwkR-q6IflE"
      },
      "source": [
        "# Definimos una función para cambiar el tamaño de los arrays de entrenamiento y\n",
        "# testeo.\n",
        "import random\n",
        "def cambiarSize(X,Y,N,perc):\n",
        "  new_size = random.sample(range(N),int(N*perc/100))\n",
        "  X_prime = []\n",
        "  Y_prime = []\n",
        "  for i in new_size:\n",
        "    X_prime.append(X[i])\n",
        "    Y_prime.append(Y[i])\n",
        "  return X_prime,Y_prime"
      ],
      "execution_count": 3,
      "outputs": []
    },
    {
      "cell_type": "code",
      "metadata": {
        "id": "V58jGmmIoexk"
      },
      "source": [
        "# Adjuntamos los datos de entrenamiento con la imagen relacionada a X_train y \n",
        "# con el número relacionado a Y_train.\n",
        "\n",
        "from PIL import Image\n",
        "\n",
        "N_train = len(train_files)\n",
        "X_train = []\n",
        "Y_train = []\n",
        "\n",
        "for i,train_file in enumerate(train_files):\n",
        "  Y_train.append(int(train_file.split('/')[2]))\n",
        "  X_train.append(np.array(Image.open(train_file)))\n",
        "\n",
        "N_valid = len(valid_files)\n",
        "X_valid = []\n",
        "Y_valid = []\n",
        "\n",
        "for i,valid_file in enumerate(valid_files):\n",
        "  Y_valid.append(int(valid_file.split('/')[2]))\n",
        "  X_valid.append(np.array(Image.open(valid_file)))\n",
        "\n",
        "N_test = len(test_files)\n",
        "X_test = []\n",
        "Y_test = []\n",
        "\n",
        "for i,test_file in enumerate(test_files):\n",
        "  Y_test.append(int(test_file.split('/')[2]))\n",
        "  X_test.append(np.array(Image.open(test_file)))"
      ],
      "execution_count": 4,
      "outputs": []
    },
    {
      "cell_type": "code",
      "metadata": {
        "id": "UDabxZyCEv39"
      },
      "source": [
        "# Definimos nuevos X_train y Y_train para cada porcentaje correspondiente al \n",
        "# tamaño de los conjuntos. Se utilizarán en la parte 1 del ejercicio.\n",
        "\n",
        "X_train_1,Y_train_1 = cambiarSize(X_train,Y_train,N_train,10)\n",
        "X_train_2,Y_train_2 = cambiarSize(X_train,Y_train,N_train,20)\n",
        "X_train_3,Y_train_3 = cambiarSize(X_train,Y_train,N_train,50)\n",
        "X_train_4,Y_train_4 = cambiarSize(X_train,Y_train,N_train,80)\n",
        "X_train_5,Y_train_5 = cambiarSize(X_train,Y_train,N_train,100)"
      ],
      "execution_count": 5,
      "outputs": []
    },
    {
      "cell_type": "code",
      "metadata": {
        "id": "onjwrwCAZCs3"
      },
      "source": [
        "# Definimos nuevos X_test y Y_test para cada porcentaje correspondiente al \n",
        "# tamaño de los conjuntos. Se utilizarán en la parte 2 del ejercicio.\n",
        "\n",
        "X_test_1,Y_test_1 = cambiarSize(X_test,Y_test,N_test,10)\n",
        "X_test_2,Y_test_2 = cambiarSize(X_test,Y_test,N_test,20)\n",
        "X_test_3,Y_test_3 = cambiarSize(X_test,Y_test,N_test,50)\n",
        "X_test_4,Y_test_4 = cambiarSize(X_test,Y_test,N_test,80)\n",
        "X_test_5,Y_test_5 = cambiarSize(X_test,Y_test,N_test,100)"
      ],
      "execution_count": 6,
      "outputs": []
    },
    {
      "cell_type": "code",
      "metadata": {
        "colab": {
          "base_uri": "https://localhost:8080/",
          "height": 350
        },
        "id": "d4NggmnZrKUp",
        "outputId": "1ac9b223-3bfe-4496-8dbc-7068efc0e497"
      },
      "source": [
        "# Observamos la cuenta de datos por tipo de número para el conjunto de\n",
        "# entrenamiento, vaidación y testeo para Y_train_1.\n",
        "\n",
        "import matplotlib.pyplot as plt\n",
        "\n",
        "fig = plt.figure(figsize=(15,5))\n",
        "\n",
        "plt.subplot(1,3,1)\n",
        "plt.hist(np.sort(Y_train_1))\n",
        "plt.xlabel('class')\n",
        "plt.ylabel('counts')\n",
        "plt.title('Train set')\n",
        "\n",
        "plt.subplot(1,3,2)\n",
        "plt.hist(np.sort(Y_valid))\n",
        "plt.xlabel('class')\n",
        "plt.ylabel('counts')\n",
        "plt.title('Valid set')\n",
        "\n",
        "plt.subplot(1,3,3)\n",
        "plt.hist(np.sort(Y_test))\n",
        "plt.xlabel('class')\n",
        "plt.ylabel('counts')\n",
        "plt.title('Test set')\n",
        "\n",
        "plt.show()"
      ],
      "execution_count": 7,
      "outputs": [
        {
          "output_type": "display_data",
          "data": {
            "image/png": "[encoded data removed]",
            "text/plain": [
              "<Figure size 1080x360 with 3 Axes>"
            ]
          },
          "metadata": {
            "needs_background": "light"
          }
        }
      ]
    },
    {
      "cell_type": "code",
      "metadata": {
        "colab": {
          "base_uri": "https://localhost:8080/",
          "height": 350
        },
        "id": "s2wW7jGdMd57",
        "outputId": "5ed19865-b0c3-40f8-928d-bcbafac73b34"
      },
      "source": [
        "# Observamos la cuenta de datos por tipo de número para el conjunto de\n",
        "# entrenamiento, vaidación y testeo para Y_train_2.\n",
        "\n",
        "import matplotlib.pyplot as plt\n",
        "\n",
        "fig = plt.figure(figsize=(15,5))\n",
        "\n",
        "plt.subplot(1,3,1)\n",
        "plt.hist(np.sort(Y_train_2))\n",
        "plt.xlabel('class')\n",
        "plt.ylabel('counts')\n",
        "plt.title('Train set')\n",
        "\n",
        "plt.subplot(1,3,2)\n",
        "plt.hist(np.sort(Y_valid))\n",
        "plt.xlabel('class')\n",
        "plt.ylabel('counts')\n",
        "plt.title('Valid set')\n",
        "\n",
        "plt.subplot(1,3,3)\n",
        "plt.hist(np.sort(Y_test))\n",
        "plt.xlabel('class')\n",
        "plt.ylabel('counts')\n",
        "plt.title('Test set')\n",
        "\n",
        "plt.show()"
      ],
      "execution_count": 8,
      "outputs": [
        {
          "output_type": "display_data",
          "data": {
            "image/png": "[encoded data removed]",
            "text/plain": [
              "<Figure size 1080x360 with 3 Axes>"
            ]
          },
          "metadata": {
            "needs_background": "light"
          }
        }
      ]
    },
    {
      "cell_type": "code",
      "metadata": {
        "colab": {
          "base_uri": "https://localhost:8080/",
          "height": 350
        },
        "id": "n-BXhL8XMlIH",
        "outputId": "5c616909-bed2-496c-c30a-e8370aa7f36f"
      },
      "source": [
        "# Observamos la cuenta de datos por tipo de número para el conjunto de\n",
        "# entrenamiento, vaidación y testeo para Y_train_3.\n",
        "\n",
        "import matplotlib.pyplot as plt\n",
        "\n",
        "fig = plt.figure(figsize=(15,5))\n",
        "\n",
        "plt.subplot(1,3,1)\n",
        "plt.hist(np.sort(Y_train_3))\n",
        "plt.xlabel('class')\n",
        "plt.ylabel('counts')\n",
        "plt.title('Train set')\n",
        "\n",
        "plt.subplot(1,3,2)\n",
        "plt.hist(np.sort(Y_valid))\n",
        "plt.xlabel('class')\n",
        "plt.ylabel('counts')\n",
        "plt.title('Valid set')\n",
        "\n",
        "plt.subplot(1,3,3)\n",
        "plt.hist(np.sort(Y_test))\n",
        "plt.xlabel('class')\n",
        "plt.ylabel('counts')\n",
        "plt.title('Test set')\n",
        "\n",
        "plt.show()"
      ],
      "execution_count": 9,
      "outputs": [
        {
          "output_type": "display_data",
          "data": {
            "image/png": "[encoded data removed]",
            "text/plain": [
              "<Figure size 1080x360 with 3 Axes>"
            ]
          },
          "metadata": {
            "needs_background": "light"
          }
        }
      ]
    },
    {
      "cell_type": "code",
      "metadata": {
        "colab": {
          "base_uri": "https://localhost:8080/",
          "height": 350
        },
        "id": "7eAHCursMnXI",
        "outputId": "208045d3-657b-4573-9051-fd1e225ee73c"
      },
      "source": [
        "# Observamos la cuenta de datos por tipo de número para el conjunto de\n",
        "# entrenamiento, vaidación y testeo para Y_train_4.\n",
        "\n",
        "import matplotlib.pyplot as plt\n",
        "\n",
        "fig = plt.figure(figsize=(15,5))\n",
        "\n",
        "plt.subplot(1,3,1)\n",
        "plt.hist(np.sort(Y_train_4))\n",
        "plt.xlabel('class')\n",
        "plt.ylabel('counts')\n",
        "plt.title('Train set')\n",
        "\n",
        "plt.subplot(1,3,2)\n",
        "plt.hist(np.sort(Y_valid))\n",
        "plt.xlabel('class')\n",
        "plt.ylabel('counts')\n",
        "plt.title('Valid set')\n",
        "\n",
        "plt.subplot(1,3,3)\n",
        "plt.hist(np.sort(Y_test))\n",
        "plt.xlabel('class')\n",
        "plt.ylabel('counts')\n",
        "plt.title('Test set')\n",
        "\n",
        "plt.show()"
      ],
      "execution_count": 10,
      "outputs": [
        {
          "output_type": "display_data",
          "data": {
            "image/png": "[encoded data removed]",
            "text/plain": [
              "<Figure size 1080x360 with 3 Axes>"
            ]
          },
          "metadata": {
            "needs_background": "light"
          }
        }
      ]
    },
    {
      "cell_type": "code",
      "metadata": {
        "colab": {
          "base_uri": "https://localhost:8080/",
          "height": 350
        },
        "id": "O7hxO0ViMo1K",
        "outputId": "ce1969fd-3ac7-48a2-b73b-f84b75cd86c9"
      },
      "source": [
        "# Observamos la cuenta de datos por tipo de número para el conjunto de\n",
        "# entrenamiento, vaidación y testeo para Y_train_5.\n",
        "\n",
        "import matplotlib.pyplot as plt\n",
        "\n",
        "fig = plt.figure(figsize=(15,5))\n",
        "\n",
        "plt.subplot(1,3,1)\n",
        "plt.hist(np.sort(Y_train_5))\n",
        "plt.xlabel('class')\n",
        "plt.ylabel('counts')\n",
        "plt.title('Train set')\n",
        "\n",
        "plt.subplot(1,3,2)\n",
        "plt.hist(np.sort(Y_valid))\n",
        "plt.xlabel('class')\n",
        "plt.ylabel('counts')\n",
        "plt.title('Valid set')\n",
        "\n",
        "plt.subplot(1,3,3)\n",
        "plt.hist(np.sort(Y_test))\n",
        "plt.xlabel('class')\n",
        "plt.ylabel('counts')\n",
        "plt.title('Test set')\n",
        "\n",
        "plt.show()"
      ],
      "execution_count": 11,
      "outputs": [
        {
          "output_type": "display_data",
          "data": {
            "image/png": "[encoded data removed]",
            "text/plain": [
              "<Figure size 1080x360 with 3 Axes>"
            ]
          },
          "metadata": {
            "needs_background": "light"
          }
        }
      ]
    },
    {
      "cell_type": "code",
      "metadata": {
        "colab": {
          "base_uri": "https://localhost:8080/",
          "height": 482
        },
        "id": "USCsRXjirj6j",
        "outputId": "b1b7bfa3-ef47-43e9-ae74-004fd3353dce"
      },
      "source": [
        "# Visualizamos los datos de testeo.\n",
        "\n",
        "fig = plt.figure(figsize=(8,8))\n",
        "for i in range(4):\n",
        "  plt.subplot(2,2,i+1)\n",
        "  plt.imshow(X_test[i*15])\n",
        "  plt.title(Y_test[i*15])\n",
        "  plt.axis(False)\n",
        "plt.show()"
      ],
      "execution_count": 12,
      "outputs": [
        {
          "output_type": "display_data",
          "data": {
            "image/png": "[encoded data removed]",
            "text/plain": [
              "<Figure size 576x576 with 4 Axes>"
            ]
          },
          "metadata": {
            "needs_background": "light"
          }
        }
      ]
    },
    {
      "cell_type": "code",
      "metadata": {
        "id": "9JTZYjtHsUcU"
      },
      "source": [
        "# Convertimos las listas de datos a tensores de torch\n",
        "import torch\n",
        "from torch.autograd import Variable\n",
        "\n",
        "X_train_1 = Variable(torch.from_numpy(np.array(X_train_1))).float()\n",
        "Y_train_1 = Variable(torch.from_numpy(np.array(Y_train_1))).long()\n",
        "X_train_2 = Variable(torch.from_numpy(np.array(X_train_2))).float()\n",
        "Y_train_2 = Variable(torch.from_numpy(np.array(Y_train_2))).long()\n",
        "X_train_3 = Variable(torch.from_numpy(np.array(X_train_3))).float()\n",
        "Y_train_3 = Variable(torch.from_numpy(np.array(Y_train_3))).long()\n",
        "X_train_4 = Variable(torch.from_numpy(np.array(X_train_4))).float()\n",
        "Y_train_4 = Variable(torch.from_numpy(np.array(Y_train_4))).long()\n",
        "X_train_5 = Variable(torch.from_numpy(np.array(X_train_5))).float()\n",
        "Y_train_5 = Variable(torch.from_numpy(np.array(Y_train_5))).long()\n",
        "\n",
        "X_valid = Variable(torch.from_numpy(np.array(X_valid))).float()\n",
        "Y_valid = Variable(torch.from_numpy(np.array(Y_valid))).long()\n",
        "\n",
        "X_test = Variable(torch.from_numpy(np.array(X_test))).float()\n",
        "Y_test = Variable(torch.from_numpy(np.array(Y_test))).long()\n",
        "\n",
        "X_test_1 = Variable(torch.from_numpy(np.array(X_test_1))).float()\n",
        "Y_test_1 = Variable(torch.from_numpy(np.array(Y_test_1))).long()\n",
        "X_test_2 = Variable(torch.from_numpy(np.array(X_test_2))).float()\n",
        "Y_test_2 = Variable(torch.from_numpy(np.array(Y_test_2))).long()\n",
        "X_test_3 = Variable(torch.from_numpy(np.array(X_test_3))).float()\n",
        "Y_test_3 = Variable(torch.from_numpy(np.array(Y_test_3))).long()\n",
        "X_test_4 = Variable(torch.from_numpy(np.array(X_test_4))).float()\n",
        "Y_test_4 = Variable(torch.from_numpy(np.array(Y_test_4))).long()\n",
        "X_test_5 = Variable(torch.from_numpy(np.array(X_test_5))).float()\n",
        "Y_test_5 = Variable(torch.from_numpy(np.array(Y_test_5))).long()\n"
      ],
      "execution_count": 13,
      "outputs": []
    },
    {
      "cell_type": "code",
      "metadata": {
        "id": "bN63xq_bsNNU"
      },
      "source": [
        "# Definimos una ANN con tres capas ocultas lineales de 50 neuronas - Grupo 1 (10%)\n",
        "\n",
        "input_dim_1 = 28*28\n",
        "out_dim_1 = 10\n",
        "hidden_1 = 50\n",
        "model_1 = torch.nn.Sequential(\n",
        "  torch.nn.Linear(input_dim_1, hidden_1),\n",
        "  torch.nn.ReLU(),\n",
        "  torch.nn.Linear(hidden_1, hidden_1),    \n",
        "  torch.nn.ReLU(),\n",
        "  torch.nn.Linear(hidden_1, out_dim_1)\n",
        ")\n",
        "\n",
        "optimizer_1 = torch.optim.Adam(model_1.parameters())\n",
        "criterion = torch.nn.CrossEntropyLoss()"
      ],
      "execution_count": 14,
      "outputs": []
    },
    {
      "cell_type": "code",
      "metadata": {
        "id": "1-ihULK1SZyB"
      },
      "source": [
        "# Definimos una ANN con tres capas ocultas lineales de 50 neuronas - Grupo 2 (20%)\n",
        "\n",
        "input_dim_2 = 28*28\n",
        "out_dim_2 = 10\n",
        "hidden_2 = 50\n",
        "model_2 = torch.nn.Sequential(\n",
        "  torch.nn.Linear(input_dim_2, hidden_2),\n",
        "  torch.nn.ReLU(),\n",
        "  torch.nn.Linear(hidden_2, hidden_2),    \n",
        "  torch.nn.ReLU(),\n",
        "  torch.nn.Linear(hidden_2, out_dim_2)\n",
        ")\n",
        "\n",
        "optimizer_2 = torch.optim.Adam(model_2.parameters())\n",
        "criterion = torch.nn.CrossEntropyLoss()"
      ],
      "execution_count": 15,
      "outputs": []
    },
    {
      "cell_type": "code",
      "metadata": {
        "id": "oUC-spqASbjc"
      },
      "source": [
        "# Definimos una ANN con tres capas ocultas lineales de 50 neuronas - Grupo 3 (50%)\n",
        "\n",
        "input_dim_3 = 28*28\n",
        "out_dim_3 = 10\n",
        "hidden_3 = 50\n",
        "model_3 = torch.nn.Sequential(\n",
        "  torch.nn.Linear(input_dim_3, hidden_3),\n",
        "  torch.nn.ReLU(),\n",
        "  torch.nn.Linear(hidden_3, hidden_3),    \n",
        "  torch.nn.ReLU(),\n",
        "  torch.nn.Linear(hidden_3, out_dim_3)\n",
        ")\n",
        "\n",
        "optimizer_3 = torch.optim.Adam(model_3.parameters())\n",
        "criterion = torch.nn.CrossEntropyLoss()"
      ],
      "execution_count": 16,
      "outputs": []
    },
    {
      "cell_type": "code",
      "metadata": {
        "id": "F-9qTzhFSb0r"
      },
      "source": [
        "# Definimos una ANN con tres capas ocultas lineales de 50 neuronas - Grupo 4 (80%)\n",
        "\n",
        "input_dim_4 = 28*28\n",
        "out_dim_4 = 10\n",
        "hidden_4 = 50\n",
        "model_4 = torch.nn.Sequential(\n",
        "  torch.nn.Linear(input_dim_4, hidden_4),\n",
        "  torch.nn.ReLU(),\n",
        "  torch.nn.Linear(hidden_4, hidden_4),    \n",
        "  torch.nn.ReLU(),\n",
        "  torch.nn.Linear(hidden_4, out_dim_4)\n",
        ")\n",
        "\n",
        "optimizer_4 = torch.optim.Adam(model_4.parameters())\n",
        "criterion = torch.nn.CrossEntropyLoss()"
      ],
      "execution_count": 17,
      "outputs": []
    },
    {
      "cell_type": "code",
      "metadata": {
        "id": "hTolIk3AScC0"
      },
      "source": [
        "# Definimos una ANN con tres capas ocultas lineales de 50 neuronas - Grupo 5 (100%)\n",
        "\n",
        "input_dim_5 = 28*28\n",
        "out_dim_5 = 10\n",
        "hidden_5 = 50\n",
        "model_5 = torch.nn.Sequential(\n",
        "  torch.nn.Linear(input_dim_5, hidden_5),\n",
        "  torch.nn.ReLU(),\n",
        "  torch.nn.Linear(hidden_5, hidden_5),    \n",
        "  torch.nn.ReLU(),\n",
        "  torch.nn.Linear(hidden_5, out_dim_5)\n",
        ")\n",
        "\n",
        "optimizer_5 = torch.optim.Adam(model_5.parameters())\n",
        "criterion = torch.nn.CrossEntropyLoss()"
      ],
      "execution_count": 18,
      "outputs": []
    },
    {
      "cell_type": "code",
      "metadata": {
        "id": "xn25riJat7xU"
      },
      "source": [
        "from sklearn.metrics import f1_score\n",
        "\n",
        "#-- Número de épocas\n",
        "n_epoch = 100\n",
        "\n",
        "#-- Listas de evaluación para el entrenamiento\n",
        "\n",
        "loss_train_1 = []\n",
        "f1_train_1 = []\n",
        "acc_train_1 = []\n",
        "\n",
        "loss_train_2 = []\n",
        "f1_train_2 = []\n",
        "acc_train_2 = []\n",
        "\n",
        "loss_train_3 = []\n",
        "f1_train_3 = []\n",
        "acc_train_3 = []\n",
        "\n",
        "loss_train_4 = []\n",
        "f1_train_4 = []\n",
        "acc_train_4 = []\n",
        "\n",
        "loss_train_5 = []\n",
        "f1_train_5 = []\n",
        "acc_train_5 = []\n",
        "\n",
        "#-- Listas de evaluación para la validación\n",
        "\n",
        "loss_valid_1 = []\n",
        "f1_valid_1 = []\n",
        "acc_valid_1 = []\n",
        "\n",
        "loss_valid_2 = []\n",
        "f1_valid_2 = []\n",
        "acc_valid_2 = []\n",
        "\n",
        "loss_valid_3 = []\n",
        "f1_valid_3 = []\n",
        "acc_valid_3 = []\n",
        "\n",
        "loss_valid_4 = []\n",
        "f1_valid_4 = []\n",
        "acc_valid_4 = []\n",
        "\n",
        "loss_valid_5 = []\n",
        "f1_valid_5 = []\n",
        "acc_valid_5 = []"
      ],
      "execution_count": 19,
      "outputs": []
    },
    {
      "cell_type": "code",
      "metadata": {
        "colab": {
          "base_uri": "https://localhost:8080/"
        },
        "id": "FwrSgvvmfrtW",
        "outputId": "81ae9d2a-d7a4-44ad-86e2-febc0dc170b2"
      },
      "source": [
        "#-- Entrenamineto de la ANN para el grupo 1 (10%)\n",
        "\n",
        "for epoch in range(n_epoch):\n",
        "  model_1.train()\n",
        "  \n",
        "  Xtr_1 = X_train_1.view(X_train_1.size(0), -1)\n",
        "  Y_pred_1 = model_1(Xtr_1)\n",
        "\n",
        "  loss_1 = criterion(Y_pred_1,Y_train_1)\n",
        "  loss_train_1.append(loss_1.item())\n",
        "\n",
        "  Y_pred_1 = torch.argmax(Y_pred_1, 1)\n",
        "  f1_train_1.append(f1_score(Y_train_1,Y_pred_1, average='macro') )\n",
        "  \n",
        "  acc_1 = sum(Y_train_1 == Y_pred_1)/len(Y_pred_1)\n",
        "  acc_train_1.append(acc_1)\n",
        "\n",
        "  optimizer_1.zero_grad()\n",
        "  loss_1.backward()\n",
        "  optimizer_1.step()\n",
        "\n",
        "  print( 'Epoch [{}/{}], loss: {}. f1:{} acc: {} '.format(epoch+1,n_epoch,loss_train_1[-1], f1_train_1[-1], acc_train_1[-1]) )\n",
        "\n",
        "  model_1.eval()\n",
        "  Xvl_1 = X_valid.view(X_valid.size(0), -1)\n",
        "  Y_pred_1 = model_1(Xvl_1)  \n",
        "  loss_1 = criterion(Y_pred_1,Y_valid)\n",
        "  loss_valid_1.append(loss_1.item())\n",
        "\n",
        "  Y_pred_1 = torch.argmax(Y_pred_1, 1)\n",
        "  f1_valid_1.append(f1_score(Y_valid, Y_pred_1, average='macro') )\n",
        "\n",
        "  acc_1 = sum(Y_valid == Y_pred_1)/len(Y_pred_1)\n",
        "  acc_valid_1.append(acc_1)\n",
        "\n",
        "#-- Entrenamineto de la ANN para el grupo 2 (20%)\n",
        "\n",
        "for epoch in range(n_epoch):\n",
        "  model_2.train()\n",
        "  \n",
        "  Xtr_2 = X_train_2.view(X_train_2.size(0), -1)\n",
        "  Y_pred_2 = model_2(Xtr_2)\n",
        "\n",
        "  loss_2 = criterion(Y_pred_2,Y_train_2)\n",
        "  loss_train_2.append(loss_2.item())\n",
        "\n",
        "  Y_pred_2 = torch.argmax(Y_pred_2, 1)\n",
        "  f1_train_2.append(f1_score(Y_train_2,Y_pred_2, average='macro') )\n",
        "  \n",
        "  acc_2 = sum(Y_train_2 == Y_pred_2)/len(Y_pred_2)\n",
        "  acc_train_2.append(acc_2)\n",
        "\n",
        "  optimizer_2.zero_grad()\n",
        "  loss_2.backward()\n",
        "  optimizer_2.step()\n",
        "\n",
        "  print( 'Epoch [{}/{}], loss: {}. f1:{} acc: {} '.format(epoch+1,n_epoch,loss_train_2[-1], f1_train_2[-1], acc_train_2[-1]) )\n",
        "\n",
        "  model_2.eval()\n",
        "  Xvl_2 = X_valid.view(X_valid.size(0), -1)\n",
        "  Y_pred_2 = model_2(Xvl_2)  \n",
        "  loss_2 = criterion(Y_pred_2,Y_valid)\n",
        "  loss_valid_2.append(loss_2.item())\n",
        "\n",
        "  Y_pred_2 = torch.argmax(Y_pred_2, 1)\n",
        "  f1_valid_2.append(f1_score(Y_valid, Y_pred_2, average='macro') )\n",
        "\n",
        "  acc_1 = sum(Y_valid == Y_pred_2)/len(Y_pred_2)\n",
        "  acc_valid_2.append(acc_2)\n",
        "\n",
        "#-- Entrenamineto de la ANN para el grupo 3 (50%)\n",
        "\n",
        "for epoch in range(n_epoch):\n",
        "  model_3.train()\n",
        "  \n",
        "  Xtr_3 = X_train_3.view(X_train_3.size(0), -1)\n",
        "  Y_pred_3 = model_3(Xtr_3)\n",
        "\n",
        "  loss_3 = criterion(Y_pred_3,Y_train_3)\n",
        "  loss_train_3.append(loss_3.item())\n",
        "\n",
        "  Y_pred_3 = torch.argmax(Y_pred_3, 1)\n",
        "  f1_train_3.append(f1_score(Y_train_3,Y_pred_3, average='macro') )\n",
        "  \n",
        "  acc_3 = sum(Y_train_3 == Y_pred_3)/len(Y_pred_3)\n",
        "  acc_train_3.append(acc_3)\n",
        "\n",
        "  optimizer_3.zero_grad()\n",
        "  loss_3.backward()\n",
        "  optimizer_3.step()\n",
        "\n",
        "  print( 'Epoch [{}/{}], loss: {}. f1:{} acc: {} '.format(epoch+1,n_epoch,loss_train_3[-1], f1_train_3[-1], acc_train_3[-1]) )\n",
        "\n",
        "  model_3.eval()\n",
        "  Xvl_3 = X_valid.view(X_valid.size(0), -1)\n",
        "  Y_pred_3 = model_3(Xvl_3)  \n",
        "  loss_3 = criterion(Y_pred_3,Y_valid)\n",
        "  loss_valid_3.append(loss_3.item())\n",
        "\n",
        "  Y_pred_3 = torch.argmax(Y_pred_3, 1)\n",
        "  f1_valid_3.append(f1_score(Y_valid, Y_pred_3, average='macro') )\n",
        "\n",
        "  acc_3 = sum(Y_valid == Y_pred_3)/len(Y_pred_3)\n",
        "  acc_valid_3.append(acc_3)\n",
        "\n",
        "#-- Entrenamineto de la ANN para el grupo 4 (80%)\n",
        "\n",
        "for epoch in range(n_epoch):\n",
        "  model_4.train()\n",
        "  \n",
        "  Xtr_4 = X_train_4.view(X_train_4.size(0), -1)\n",
        "  Y_pred_4 = model_4(Xtr_4)\n",
        "\n",
        "  loss_4 = criterion(Y_pred_4,Y_train_4)\n",
        "  loss_train_4.append(loss_4.item())\n",
        "\n",
        "  Y_pred_4 = torch.argmax(Y_pred_4, 1)\n",
        "  f1_train_4.append(f1_score(Y_train_4,Y_pred_4, average='macro') )\n",
        "  \n",
        "  acc_4 = sum(Y_train_4 == Y_pred_4)/len(Y_pred_4)\n",
        "  acc_train_4.append(acc_4)\n",
        "\n",
        "  optimizer_4.zero_grad()\n",
        "  loss_4.backward()\n",
        "  optimizer_4.step()\n",
        "\n",
        "  print( 'Epoch [{}/{}], loss: {}. f1:{} acc: {} '.format(epoch+1,n_epoch,loss_train_4[-1], f1_train_4[-1], acc_train_4[-1]) )\n",
        "\n",
        "  model_4.eval()\n",
        "  Xvl_4 = X_valid.view(X_valid.size(0), -1)\n",
        "  Y_pred_4 = model_4(Xvl_4)  \n",
        "  loss_4 = criterion(Y_pred_4,Y_valid)\n",
        "  loss_valid_4.append(loss_4.item())\n",
        "\n",
        "  Y_pred_4 = torch.argmax(Y_pred_4, 1)\n",
        "  f1_valid_4.append(f1_score(Y_valid, Y_pred_4, average='macro') )\n",
        "\n",
        "  acc_4 = sum(Y_valid == Y_pred_4)/len(Y_pred_4)\n",
        "  acc_valid_4.append(acc_4)\n",
        "\n",
        "#-- Entrenamineto de la ANN para el grupo 5 (100%)\n",
        "\n",
        "for epoch in range(n_epoch):\n",
        "  model_5.train()\n",
        "  \n",
        "  Xtr_5 = X_train_5.view(X_train_5.size(0), -1)\n",
        "  Y_pred_5 = model_5(Xtr_5)\n",
        "\n",
        "  loss_5 = criterion(Y_pred_5,Y_train_5)\n",
        "  loss_train_5.append(loss_5.item())\n",
        "\n",
        "  Y_pred_5 = torch.argmax(Y_pred_5, 1)\n",
        "  f1_train_5.append(f1_score(Y_train_5,Y_pred_5, average='macro') )\n",
        "  \n",
        "  acc_5 = sum(Y_train_5 == Y_pred_5)/len(Y_pred_5)\n",
        "  acc_train_5.append(acc_5)\n",
        "\n",
        "  optimizer_5.zero_grad()\n",
        "  loss_5.backward()\n",
        "  optimizer_5.step()\n",
        "\n",
        "  print( 'Epoch [{}/{}], loss: {}. f1:{} acc: {} '.format(epoch+1,n_epoch,loss_train_5[-1], f1_train_5[-1], acc_train_5[-1]) )\n",
        "\n",
        "  model_5.eval()\n",
        "  Xvl_5 = X_valid.view(X_valid.size(0), -1)\n",
        "  Y_pred_5 = model_5(Xvl_5)  \n",
        "  loss_5 = criterion(Y_pred_5,Y_valid)\n",
        "  loss_valid_5.append(loss_5.item())\n",
        "\n",
        "  Y_pred_5 = torch.argmax(Y_pred_5, 1)\n",
        "  f1_valid_5.append(f1_score(Y_valid, Y_pred_5, average='macro') )\n",
        "\n",
        "  acc_5 = sum(Y_valid == Y_pred_5)/len(Y_pred_5)\n",
        "  acc_valid_5.append(acc_5)"
      ],
      "execution_count": 20,
      "outputs": [
        {
          "output_type": "stream",
          "text": [
            "Epoch [1/100], loss: 10.391027450561523. f1:0.06371119988713936 acc: 0.09833333641290665 \n",
            "Epoch [2/100], loss: 6.008852005004883. f1:0.13215345690998948 acc: 0.17166666686534882 \n",
            "Epoch [3/100], loss: 4.0229997634887695. f1:0.2202426304040835 acc: 0.23999999463558197 \n",
            "Epoch [4/100], loss: 3.053682565689087. f1:0.3310317779431318 acc: 0.3700000047683716 \n",
            "Epoch [5/100], loss: 2.262993097305298. f1:0.45100724943517073 acc: 0.48500001430511475 \n",
            "Epoch [6/100], loss: 1.8481844663619995. f1:0.5292337123242323 acc: 0.5516666769981384 \n",
            "Epoch [7/100], loss: 1.5731438398361206. f1:0.5631368124048259 acc: 0.57833331823349 \n",
            "Epoch [8/100], loss: 1.3100124597549438. f1:0.6234797631213306 acc: 0.6349999904632568 \n",
            "Epoch [9/100], loss: 1.1188372373580933. f1:0.6902127291450435 acc: 0.699999988079071 \n",
            "Epoch [10/100], loss: 0.9967601299285889. f1:0.7296344315638654 acc: 0.7350000143051147 \n",
            "Epoch [11/100], loss: 0.8916480541229248. f1:0.7558161663295154 acc: 0.7583333253860474 \n",
            "Epoch [12/100], loss: 0.7818094491958618. f1:0.77870832050191 acc: 0.7816666960716248 \n",
            "Epoch [13/100], loss: 0.6729342937469482. f1:0.8062333601429199 acc: 0.8083333373069763 \n",
            "Epoch [14/100], loss: 0.5815690159797668. f1:0.8148982044483267 acc: 0.8183333277702332 \n",
            "Epoch [15/100], loss: 0.5060174465179443. f1:0.838626017057648 acc: 0.8416666388511658 \n",
            "Epoch [16/100], loss: 0.4452020823955536. f1:0.8664413108337847 acc: 0.8683333396911621 \n",
            "Epoch [17/100], loss: 0.39291736483573914. f1:0.8786500197804445 acc: 0.8799999952316284 \n",
            "Epoch [18/100], loss: 0.3492346405982971. f1:0.8889182577210111 acc: 0.8899999856948853 \n",
            "Epoch [19/100], loss: 0.3103726804256439. f1:0.9005695766207744 acc: 0.9016666412353516 \n",
            "Epoch [20/100], loss: 0.2761579751968384. f1:0.9123220678358118 acc: 0.9133333563804626 \n",
            "Epoch [21/100], loss: 0.24537993967533112. f1:0.9123268665503652 acc: 0.9133333563804626 \n",
            "Epoch [22/100], loss: 0.21709424257278442. f1:0.92931317720134 acc: 0.9300000071525574 \n",
            "Epoch [23/100], loss: 0.1927138715982437. f1:0.9327349672971493 acc: 0.9333333373069763 \n",
            "Epoch [24/100], loss: 0.17275086045265198. f1:0.9432681151439148 acc: 0.9433333277702332 \n",
            "Epoch [25/100], loss: 0.15590213239192963. f1:0.9484884815985074 acc: 0.9483333230018616 \n",
            "Epoch [26/100], loss: 0.1399199366569519. f1:0.9538739997917658 acc: 0.95333331823349 \n",
            "Epoch [27/100], loss: 0.12487366050481796. f1:0.9593355525259639 acc: 0.9583333134651184 \n",
            "Epoch [28/100], loss: 0.11085576564073563. f1:0.9659341563476982 acc: 0.9649999737739563 \n",
            "Epoch [29/100], loss: 0.09792408347129822. f1:0.9741805639473613 acc: 0.9733333587646484 \n",
            "Epoch [30/100], loss: 0.08652252703905106. f1:0.9790524659982353 acc: 0.9783333539962769 \n",
            "Epoch [31/100], loss: 0.07699917256832123. f1:0.9823275401987818 acc: 0.9816666841506958 \n",
            "Epoch [32/100], loss: 0.06911636143922806. f1:0.9838718912725446 acc: 0.9833333492279053 \n",
            "Epoch [33/100], loss: 0.0628288984298706. f1:0.9883211864780588 acc: 0.9883333444595337 \n",
            "Epoch [34/100], loss: 0.057543374598026276. f1:0.9883211864780588 acc: 0.9883333444595337 \n",
            "Epoch [35/100], loss: 0.05312417447566986. f1:0.9883211864780588 acc: 0.9883333444595337 \n",
            "Epoch [36/100], loss: 0.04899347573518753. f1:0.9900242900834897 acc: 0.9900000095367432 \n",
            "Epoch [37/100], loss: 0.045140355825424194. f1:0.990264744867865 acc: 0.9900000095367432 \n",
            "Epoch [38/100], loss: 0.041539266705513. f1:0.9934092133649376 acc: 0.9933333396911621 \n",
            "Epoch [39/100], loss: 0.03818698227405548. f1:0.9947633244817446 acc: 0.9950000047683716 \n",
            "Epoch [40/100], loss: 0.03500574827194214. f1:0.9966165534744149 acc: 0.996666669845581 \n",
            "Epoch [41/100], loss: 0.03208340331912041. f1:0.9980505747126436 acc: 0.9983333349227905 \n",
            "Epoch [42/100], loss: 0.02946019172668457. f1:0.9980505747126436 acc: 0.9983333349227905 \n",
            "Epoch [43/100], loss: 0.02708194963634014. f1:0.9980505747126436 acc: 0.9983333349227905 \n",
            "Epoch [44/100], loss: 0.024932831525802612. f1:0.9980505747126436 acc: 0.9983333349227905 \n",
            "Epoch [45/100], loss: 0.02295341156423092. f1:0.9980505747126436 acc: 0.9983333349227905 \n",
            "Epoch [46/100], loss: 0.02116149291396141. f1:0.9980505747126436 acc: 0.9983333349227905 \n",
            "Epoch [47/100], loss: 0.01953759416937828. f1:1.0 acc: 1.0 \n",
            "Epoch [48/100], loss: 0.018079636618494987. f1:1.0 acc: 1.0 \n",
            "Epoch [49/100], loss: 0.016759000718593597. f1:1.0 acc: 1.0 \n",
            "Epoch [50/100], loss: 0.015577545389533043. f1:1.0 acc: 1.0 \n",
            "Epoch [51/100], loss: 0.014524011872708797. f1:1.0 acc: 1.0 \n",
            "Epoch [52/100], loss: 0.013587439432740211. f1:1.0 acc: 1.0 \n",
            "Epoch [53/100], loss: 0.012766020372509956. f1:1.0 acc: 1.0 \n",
            "Epoch [54/100], loss: 0.012024865485727787. f1:1.0 acc: 1.0 \n",
            "Epoch [55/100], loss: 0.01135551743209362. f1:1.0 acc: 1.0 \n",
            "Epoch [56/100], loss: 0.01075144112110138. f1:1.0 acc: 1.0 \n",
            "Epoch [57/100], loss: 0.010202492587268353. f1:1.0 acc: 1.0 \n",
            "Epoch [58/100], loss: 0.009707367978990078. f1:1.0 acc: 1.0 \n",
            "Epoch [59/100], loss: 0.009258781559765339. f1:1.0 acc: 1.0 \n",
            "Epoch [60/100], loss: 0.008849390782415867. f1:1.0 acc: 1.0 \n",
            "Epoch [61/100], loss: 0.008479492738842964. f1:1.0 acc: 1.0 \n",
            "Epoch [62/100], loss: 0.008138191886246204. f1:1.0 acc: 1.0 \n",
            "Epoch [63/100], loss: 0.007819127291440964. f1:1.0 acc: 1.0 \n",
            "Epoch [64/100], loss: 0.007518588565289974. f1:1.0 acc: 1.0 \n",
            "Epoch [65/100], loss: 0.007238706573843956. f1:1.0 acc: 1.0 \n",
            "Epoch [66/100], loss: 0.00697923731058836. f1:1.0 acc: 1.0 \n",
            "Epoch [67/100], loss: 0.00673813559114933. f1:1.0 acc: 1.0 \n",
            "Epoch [68/100], loss: 0.006514725275337696. f1:1.0 acc: 1.0 \n",
            "Epoch [69/100], loss: 0.006306137889623642. f1:1.0 acc: 1.0 \n",
            "Epoch [70/100], loss: 0.006111289840191603. f1:1.0 acc: 1.0 \n",
            "Epoch [71/100], loss: 0.005927835125476122. f1:1.0 acc: 1.0 \n",
            "Epoch [72/100], loss: 0.005755332764238119. f1:1.0 acc: 1.0 \n",
            "Epoch [73/100], loss: 0.005592525936663151. f1:1.0 acc: 1.0 \n",
            "Epoch [74/100], loss: 0.005438807886093855. f1:1.0 acc: 1.0 \n",
            "Epoch [75/100], loss: 0.005294470116496086. f1:1.0 acc: 1.0 \n",
            "Epoch [76/100], loss: 0.0051583959721028805. f1:1.0 acc: 1.0 \n",
            "Epoch [77/100], loss: 0.005029766354709864. f1:1.0 acc: 1.0 \n",
            "Epoch [78/100], loss: 0.0049083116464316845. f1:1.0 acc: 1.0 \n",
            "Epoch [79/100], loss: 0.004793783649802208. f1:1.0 acc: 1.0 \n",
            "Epoch [80/100], loss: 0.004684319719672203. f1:1.0 acc: 1.0 \n",
            "Epoch [81/100], loss: 0.004579087719321251. f1:1.0 acc: 1.0 \n",
            "Epoch [82/100], loss: 0.0044782222248613834. f1:1.0 acc: 1.0 \n",
            "Epoch [83/100], loss: 0.004382170271128416. f1:1.0 acc: 1.0 \n",
            "Epoch [84/100], loss: 0.004290340933948755. f1:1.0 acc: 1.0 \n",
            "Epoch [85/100], loss: 0.004202467855066061. f1:1.0 acc: 1.0 \n",
            "Epoch [86/100], loss: 0.004118211567401886. f1:1.0 acc: 1.0 \n",
            "Epoch [87/100], loss: 0.004037563689053059. f1:1.0 acc: 1.0 \n",
            "Epoch [88/100], loss: 0.003960460424423218. f1:1.0 acc: 1.0 \n",
            "Epoch [89/100], loss: 0.0038869206327944994. f1:1.0 acc: 1.0 \n",
            "Epoch [90/100], loss: 0.0038162919227033854. f1:1.0 acc: 1.0 \n",
            "Epoch [91/100], loss: 0.003748418530449271. f1:1.0 acc: 1.0 \n",
            "Epoch [92/100], loss: 0.0036832340992987156. f1:1.0 acc: 1.0 \n",
            "Epoch [93/100], loss: 0.00362052908167243. f1:1.0 acc: 1.0 \n",
            "Epoch [94/100], loss: 0.0035599148832261562. f1:1.0 acc: 1.0 \n",
            "Epoch [95/100], loss: 0.003501398488879204. f1:1.0 acc: 1.0 \n",
            "Epoch [96/100], loss: 0.003445072565227747. f1:1.0 acc: 1.0 \n",
            "Epoch [97/100], loss: 0.00339052127674222. f1:1.0 acc: 1.0 \n",
            "Epoch [98/100], loss: 0.0033378680236637592. f1:1.0 acc: 1.0 \n",
            "Epoch [99/100], loss: 0.0032870518043637276. f1:1.0 acc: 1.0 \n",
            "Epoch [100/100], loss: 0.0032381494529545307. f1:1.0 acc: 1.0 \n",
            "Epoch [1/100], loss: 10.729872703552246. f1:0.054315604928304805 acc: 0.1133333370089531 \n",
            "Epoch [2/100], loss: 7.160720348358154. f1:0.12968691189899784 acc: 0.1508333384990692 \n",
            "Epoch [3/100], loss: 5.028871059417725. f1:0.18758320239737614 acc: 0.23916666209697723 \n",
            "Epoch [4/100], loss: 3.5153427124023438. f1:0.2679487575585488 acc: 0.3283333480358124 \n",
            "Epoch [5/100], loss: 2.7088685035705566. f1:0.3440552667256217 acc: 0.39500001072883606 \n",
            "Epoch [6/100], loss: 2.1608657836914062. f1:0.40785585103034167 acc: 0.45750001072883606 \n",
            "Epoch [7/100], loss: 1.8495029211044312. f1:0.4585913247276278 acc: 0.5049999952316284 \n",
            "Epoch [8/100], loss: 1.64104163646698. f1:0.4910875536464657 acc: 0.5358333587646484 \n",
            "Epoch [9/100], loss: 1.5256770849227905. f1:0.5033079729150766 acc: 0.5425000190734863 \n",
            "Epoch [10/100], loss: 1.4573215246200562. f1:0.526735554695791 acc: 0.5533333420753479 \n",
            "Epoch [11/100], loss: 1.3511109352111816. f1:0.5709907793033582 acc: 0.5849999785423279 \n",
            "Epoch [12/100], loss: 1.2149447202682495. f1:0.608286995761241 acc: 0.6166666746139526 \n",
            "Epoch [13/100], loss: 1.0775967836380005. f1:0.6467641195747361 acc: 0.6516666412353516 \n",
            "Epoch [14/100], loss: 0.9586053490638733. f1:0.6838875470630557 acc: 0.6875 \n",
            "Epoch [15/100], loss: 0.8598980903625488. f1:0.7215990007408418 acc: 0.7258333563804626 \n",
            "Epoch [16/100], loss: 0.7841434478759766. f1:0.7496480939959415 acc: 0.7541666626930237 \n",
            "Epoch [17/100], loss: 0.7276134490966797. f1:0.7728366077452085 acc: 0.7774999737739563 \n",
            "Epoch [18/100], loss: 0.6835407018661499. f1:0.7849990610299521 acc: 0.7900000214576721 \n",
            "Epoch [19/100], loss: 0.645635187625885. f1:0.7957157264063014 acc: 0.8016666769981384 \n",
            "Epoch [20/100], loss: 0.6107211112976074. f1:0.8085090296549182 acc: 0.8141666650772095 \n",
            "Epoch [21/100], loss: 0.5776309370994568. f1:0.8168408986865912 acc: 0.8224999904632568 \n",
            "Epoch [22/100], loss: 0.5458064079284668. f1:0.823549633558468 acc: 0.8291666507720947 \n",
            "Epoch [23/100], loss: 0.5138441920280457. f1:0.8277115227687964 acc: 0.8333333134651184 \n",
            "Epoch [24/100], loss: 0.48156383633613586. f1:0.8409457223855986 acc: 0.8458333611488342 \n",
            "Epoch [25/100], loss: 0.45084497332572937. f1:0.8498543423180844 acc: 0.8541666865348816 \n",
            "Epoch [26/100], loss: 0.42381662130355835. f1:0.8592460735471456 acc: 0.8633333444595337 \n",
            "Epoch [27/100], loss: 0.4001759886741638. f1:0.8668265335293969 acc: 0.8700000047683716 \n",
            "Epoch [28/100], loss: 0.3792906701564789. f1:0.8734729154438886 acc: 0.8766666650772095 \n",
            "Epoch [29/100], loss: 0.36086609959602356. f1:0.8772200506471062 acc: 0.8799999952316284 \n",
            "Epoch [30/100], loss: 0.3432241678237915. f1:0.8864250080672023 acc: 0.8891666531562805 \n",
            "Epoch [31/100], loss: 0.3261326253414154. f1:0.8942610946891506 acc: 0.8966666460037231 \n",
            "Epoch [32/100], loss: 0.30953988432884216. f1:0.9025731887798552 acc: 0.9049999713897705 \n",
            "Epoch [33/100], loss: 0.2935093641281128. f1:0.9060697378807921 acc: 0.9083333611488342 \n",
            "Epoch [34/100], loss: 0.2783202826976776. f1:0.9078542798314931 acc: 0.9100000262260437 \n",
            "Epoch [35/100], loss: 0.264272004365921. f1:0.9172370384994801 acc: 0.9191666841506958 \n",
            "Epoch [36/100], loss: 0.2513270378112793. f1:0.9214993468269356 acc: 0.9233333468437195 \n",
            "Epoch [37/100], loss: 0.2393711805343628. f1:0.9299771550464937 acc: 0.9316666722297668 \n",
            "Epoch [38/100], loss: 0.22812192142009735. f1:0.9333127702452568 acc: 0.9350000023841858 \n",
            "Epoch [39/100], loss: 0.2174447923898697. f1:0.938629252620254 acc: 0.9399999976158142 \n",
            "Epoch [40/100], loss: 0.20737162232398987. f1:0.9384997396766078 acc: 0.9399999976158142 \n",
            "Epoch [41/100], loss: 0.1980687528848648. f1:0.9451715872959795 acc: 0.9466666579246521 \n",
            "Epoch [42/100], loss: 0.18926838040351868. f1:0.9486995072258393 acc: 0.949999988079071 \n",
            "Epoch [43/100], loss: 0.1809040904045105. f1:0.9503112464812633 acc: 0.9516666531562805 \n",
            "Epoch [44/100], loss: 0.1726353019475937. f1:0.9528882488969466 acc: 0.9541666507720947 \n",
            "Epoch [45/100], loss: 0.1645006239414215. f1:0.9555307052991389 acc: 0.9566666483879089 \n",
            "Epoch [46/100], loss: 0.15671314299106598. f1:0.956322638141822 acc: 0.9574999809265137 \n",
            "Epoch [47/100], loss: 0.1494167298078537. f1:0.9622050296915591 acc: 0.9633333086967468 \n",
            "Epoch [48/100], loss: 0.14259642362594604. f1:0.9621409821875272 acc: 0.9633333086967468 \n",
            "Epoch [49/100], loss: 0.13624340295791626. f1:0.9656686556981725 acc: 0.9666666388511658 \n",
            "Epoch [50/100], loss: 0.130177304148674. f1:0.9665345097615112 acc: 0.9674999713897705 \n",
            "Epoch [51/100], loss: 0.1242779940366745. f1:0.9675088179331979 acc: 0.9683333039283752 \n",
            "Epoch [52/100], loss: 0.11864565312862396. f1:0.9700450397473034 acc: 0.9708333611488342 \n",
            "Epoch [53/100], loss: 0.11336873471736908. f1:0.974219271996551 acc: 0.9750000238418579 \n",
            "Epoch [54/100], loss: 0.10841331630945206. f1:0.9768439065600948 acc: 0.9775000214576721 \n",
            "Epoch [55/100], loss: 0.10376486927270889. f1:0.9768439065600948 acc: 0.9775000214576721 \n",
            "Epoch [56/100], loss: 0.09937485307455063. f1:0.9777243458508675 acc: 0.9783333539962769 \n",
            "Epoch [57/100], loss: 0.09521458297967911. f1:0.9786064184759518 acc: 0.9791666865348816 \n",
            "Epoch [58/100], loss: 0.09117811918258667. f1:0.9786064184759518 acc: 0.9791666865348816 \n",
            "Epoch [59/100], loss: 0.08724682033061981. f1:0.9803142795954578 acc: 0.9808333516120911 \n",
            "Epoch [60/100], loss: 0.08338315039873123. f1:0.9803142795954578 acc: 0.9808333516120911 \n",
            "Epoch [61/100], loss: 0.07959049195051193. f1:0.9820318469980848 acc: 0.9825000166893005 \n",
            "Epoch [62/100], loss: 0.076054148375988. f1:0.9820318469980848 acc: 0.9825000166893005 \n",
            "Epoch [63/100], loss: 0.07268788665533066. f1:0.9845900914971454 acc: 0.9850000143051147 \n",
            "Epoch [64/100], loss: 0.06943615525960922. f1:0.9854746159561378 acc: 0.9858333468437195 \n",
            "Epoch [65/100], loss: 0.06631502509117126. f1:0.9871136472756008 acc: 0.987500011920929 \n",
            "Epoch [66/100], loss: 0.063418909907341. f1:0.9905283573160858 acc: 0.9908333420753479 \n",
            "Epoch [67/100], loss: 0.06074364855885506. f1:0.9931036032371449 acc: 0.9933333396911621 \n",
            "Epoch [68/100], loss: 0.05816497281193733. f1:0.9939303433143252 acc: 0.9941666722297668 \n",
            "Epoch [69/100], loss: 0.05567349120974541. f1:0.9939303433143252 acc: 0.9941666722297668 \n",
            "Epoch [70/100], loss: 0.053349532186985016. f1:0.9939303433143252 acc: 0.9941666722297668 \n",
            "Epoch [71/100], loss: 0.05119090899825096. f1:0.9948076583666763 acc: 0.9950000047683716 \n",
            "Epoch [72/100], loss: 0.0491492822766304. f1:0.9948076583666763 acc: 0.9950000047683716 \n",
            "Epoch [73/100], loss: 0.04724032059311867. f1:0.9948076583666763 acc: 0.9950000047683716 \n",
            "Epoch [74/100], loss: 0.045457471162080765. f1:0.9948076583666763 acc: 0.9950000047683716 \n",
            "Epoch [75/100], loss: 0.04371399059891701. f1:0.9948076583666763 acc: 0.9950000047683716 \n",
            "Epoch [76/100], loss: 0.04204104095697403. f1:0.9948076583666763 acc: 0.9950000047683716 \n",
            "Epoch [77/100], loss: 0.04049442335963249. f1:0.9948076583666763 acc: 0.9950000047683716 \n",
            "Epoch [78/100], loss: 0.039086777716875076. f1:0.9956850227307681 acc: 0.9958333373069763 \n",
            "Epoch [79/100], loss: 0.03771275654435158. f1:0.9956850227307681 acc: 0.9958333373069763 \n",
            "Epoch [80/100], loss: 0.036389026790857315. f1:0.9956850227307681 acc: 0.9958333373069763 \n",
            "Epoch [81/100], loss: 0.03511098399758339. f1:0.9965557636338431 acc: 0.996666669845581 \n",
            "Epoch [82/100], loss: 0.03390727564692497. f1:0.9965557636338431 acc: 0.996666669845581 \n",
            "Epoch [83/100], loss: 0.03276357799768448. f1:0.9965557636338431 acc: 0.996666669845581 \n",
            "Epoch [84/100], loss: 0.03165622428059578. f1:0.9965557636338431 acc: 0.996666669845581 \n",
            "Epoch [85/100], loss: 0.03060724213719368. f1:0.9965557636338431 acc: 0.996666669845581 \n",
            "Epoch [86/100], loss: 0.02960239350795746. f1:0.9974323294421008 acc: 0.9975000023841858 \n",
            "Epoch [87/100], loss: 0.02865149825811386. f1:0.9974323294421008 acc: 0.9975000023841858 \n",
            "Epoch [88/100], loss: 0.027744360268115997. f1:0.9974323294421008 acc: 0.9975000023841858 \n",
            "Epoch [89/100], loss: 0.02688273973762989. f1:0.9974323294421008 acc: 0.9975000023841858 \n",
            "Epoch [90/100], loss: 0.026053206995129585. f1:0.9974323294421008 acc: 0.9975000023841858 \n",
            "Epoch [91/100], loss: 0.025272278115153313. f1:0.9974323294421008 acc: 0.9975000023841858 \n",
            "Epoch [92/100], loss: 0.024518294259905815. f1:0.9974323294421008 acc: 0.9975000023841858 \n",
            "Epoch [93/100], loss: 0.023791508749127388. f1:0.9974323294421008 acc: 0.9975000023841858 \n",
            "Epoch [94/100], loss: 0.023102428764104843. f1:0.9974323294421008 acc: 0.9975000023841858 \n",
            "Epoch [95/100], loss: 0.02243691124022007. f1:0.9974323294421008 acc: 0.9975000023841858 \n",
            "Epoch [96/100], loss: 0.021799147129058838. f1:0.9974323294421008 acc: 0.9975000023841858 \n",
            "Epoch [97/100], loss: 0.02118813619017601. f1:0.9974323294421008 acc: 0.9975000023841858 \n",
            "Epoch [98/100], loss: 0.02060101553797722. f1:0.9974323294421008 acc: 0.9975000023841858 \n",
            "Epoch [99/100], loss: 0.02004123665392399. f1:0.9974323294421008 acc: 0.9975000023841858 \n",
            "Epoch [100/100], loss: 0.019509335979819298. f1:0.9974323294421008 acc: 0.9975000023841858 \n",
            "Epoch [1/100], loss: 10.465010643005371. f1:0.047018248769372765 acc: 0.06466666609048843 \n",
            "Epoch [2/100], loss: 4.875309467315674. f1:0.1285849306604407 acc: 0.12700000405311584 \n",
            "Epoch [3/100], loss: 3.234628677368164. f1:0.2470420246577536 acc: 0.23633334040641785 \n",
            "Epoch [4/100], loss: 2.4998526573181152. f1:0.36445504142007606 acc: 0.3583333194255829 \n",
            "Epoch [5/100], loss: 1.9599559307098389. f1:0.46220443419497775 acc: 0.4620000123977661 \n",
            "Epoch [6/100], loss: 1.6787482500076294. f1:0.5135258701754323 acc: 0.5223333239555359 \n",
            "Epoch [7/100], loss: 1.4935988187789917. f1:0.5714052039168469 acc: 0.5833333134651184 \n",
            "Epoch [8/100], loss: 1.3116950988769531. f1:0.615059665100756 acc: 0.624666690826416 \n",
            "Epoch [9/100], loss: 1.1603410243988037. f1:0.6627799788034869 acc: 0.6693333387374878 \n",
            "Epoch [10/100], loss: 1.0499248504638672. f1:0.6961916427457499 acc: 0.7009999752044678 \n",
            "Epoch [11/100], loss: 0.9719074964523315. f1:0.7210778098502197 acc: 0.7246666550636292 \n",
            "Epoch [12/100], loss: 0.9068231582641602. f1:0.7373800051261811 acc: 0.7396666407585144 \n",
            "Epoch [13/100], loss: 0.8417797088623047. f1:0.7522176810868615 acc: 0.7536666393280029 \n",
            "Epoch [14/100], loss: 0.781620442867279. f1:0.7694313379366485 acc: 0.7699999809265137 \n",
            "Epoch [15/100], loss: 0.7299220561981201. f1:0.7887533150936955 acc: 0.7889999747276306 \n",
            "Epoch [16/100], loss: 0.6825907230377197. f1:0.8003190429377561 acc: 0.8006666898727417 \n",
            "Epoch [17/100], loss: 0.639613926410675. f1:0.8120640673304876 acc: 0.8130000233650208 \n",
            "Epoch [18/100], loss: 0.6060224175453186. f1:0.8190077409963805 acc: 0.8199999928474426 \n",
            "Epoch [19/100], loss: 0.5804920196533203. f1:0.8245102597598603 acc: 0.8256666660308838 \n",
            "Epoch [20/100], loss: 0.5569227933883667. f1:0.8275919711587625 acc: 0.8286666870117188 \n",
            "Epoch [21/100], loss: 0.531602144241333. f1:0.8345921453521994 acc: 0.8356666564941406 \n",
            "Epoch [22/100], loss: 0.5055232048034668. f1:0.8409516669475444 acc: 0.8416666388511658 \n",
            "Epoch [23/100], loss: 0.48108816146850586. f1:0.8489945238978753 acc: 0.8493333458900452 \n",
            "Epoch [24/100], loss: 0.4589006006717682. f1:0.8586568331461667 acc: 0.8586666584014893 \n",
            "Epoch [25/100], loss: 0.43712472915649414. f1:0.8628757331020595 acc: 0.862666666507721 \n",
            "Epoch [26/100], loss: 0.41560494899749756. f1:0.8691468711318995 acc: 0.8690000176429749 \n",
            "Epoch [27/100], loss: 0.3952758014202118. f1:0.8759437996341344 acc: 0.8759999871253967 \n",
            "Epoch [28/100], loss: 0.37690433859825134. f1:0.8850881035276486 acc: 0.8853333592414856 \n",
            "Epoch [29/100], loss: 0.3598235249519348. f1:0.890708742948437 acc: 0.890999972820282 \n",
            "Epoch [30/100], loss: 0.3427828848361969. f1:0.8960574579657207 acc: 0.8963333368301392 \n",
            "Epoch [31/100], loss: 0.3263235092163086. f1:0.9037038187758204 acc: 0.9039999842643738 \n",
            "Epoch [32/100], loss: 0.3112833797931671. f1:0.9063408185756909 acc: 0.9066666960716248 \n",
            "Epoch [33/100], loss: 0.29762741923332214. f1:0.912811869446441 acc: 0.9129999876022339 \n",
            "Epoch [34/100], loss: 0.2850607931613922. f1:0.9176333782139856 acc: 0.9176666736602783 \n",
            "Epoch [35/100], loss: 0.2732875943183899. f1:0.9206831037820876 acc: 0.9206666946411133 \n",
            "Epoch [36/100], loss: 0.2615916430950165. f1:0.9250541797253803 acc: 0.925000011920929 \n",
            "Epoch [37/100], loss: 0.25007364153862. f1:0.9300146794243076 acc: 0.9300000071525574 \n",
            "Epoch [38/100], loss: 0.2393546998500824. f1:0.9329595089584265 acc: 0.9330000281333923 \n",
            "Epoch [39/100], loss: 0.2299097627401352. f1:0.9345925947791527 acc: 0.9346666932106018 \n",
            "Epoch [40/100], loss: 0.2212866246700287. f1:0.9375918143805075 acc: 0.937666654586792 \n",
            "Epoch [41/100], loss: 0.2128930687904358. f1:0.9429076926099158 acc: 0.9430000185966492 \n",
            "Epoch [42/100], loss: 0.2048613429069519. f1:0.9445809339217016 acc: 0.9446666836738586 \n",
            "Epoch [43/100], loss: 0.19741028547286987. f1:0.9459270210595111 acc: 0.9459999799728394 \n",
            "Epoch [44/100], loss: 0.19041672348976135. f1:0.9476921260676834 acc: 0.9476666450500488 \n",
            "Epoch [45/100], loss: 0.18358154594898224. f1:0.9524030145441627 acc: 0.9523333311080933 \n",
            "Epoch [46/100], loss: 0.1770271211862564. f1:0.9537715002408242 acc: 0.9536666870117188 \n",
            "Epoch [47/100], loss: 0.17092669010162354. f1:0.9537812371305338 acc: 0.9536666870117188 \n",
            "Epoch [48/100], loss: 0.16520044207572937. f1:0.9547503071620692 acc: 0.9546666741371155 \n",
            "Epoch [49/100], loss: 0.15965308248996735. f1:0.9574414436447185 acc: 0.9573333263397217 \n",
            "Epoch [50/100], loss: 0.15424536168575287. f1:0.9597774627404518 acc: 0.9596666693687439 \n",
            "Epoch [51/100], loss: 0.14908011257648468. f1:0.9611407491871798 acc: 0.9610000252723694 \n",
            "Epoch [52/100], loss: 0.14420893788337708. f1:0.9628018851437924 acc: 0.9626666903495789 \n",
            "Epoch [53/100], loss: 0.13955998420715332. f1:0.9638092089469816 acc: 0.9636666774749756 \n",
            "Epoch [54/100], loss: 0.13501854240894318. f1:0.965757396951954 acc: 0.965666651725769 \n",
            "Epoch [55/100], loss: 0.13054634630680084. f1:0.9660821814619007 acc: 0.9660000205039978 \n",
            "Epoch [56/100], loss: 0.1262217015028. f1:0.9680244274358989 acc: 0.9679999947547913 \n",
            "Epoch [57/100], loss: 0.12205934524536133. f1:0.9690181266735302 acc: 0.968999981880188 \n",
            "Epoch [58/100], loss: 0.11810249835252762. f1:0.9700031694303485 acc: 0.9700000286102295 \n",
            "Epoch [59/100], loss: 0.11424564570188522. f1:0.9713302352679737 acc: 0.9713333249092102 \n",
            "Epoch [60/100], loss: 0.11049652844667435. f1:0.9726557583258414 acc: 0.9726666808128357 \n",
            "Epoch [61/100], loss: 0.10692061483860016. f1:0.9739964598661721 acc: 0.9739999771118164 \n",
            "Epoch [62/100], loss: 0.10352680832147598. f1:0.9759890055972166 acc: 0.9760000109672546 \n",
            "Epoch [63/100], loss: 0.10021037608385086. f1:0.9773176961603041 acc: 0.9773333072662354 \n",
            "Epoch [64/100], loss: 0.09703493118286133. f1:0.9786575561723279 acc: 0.9786666631698608 \n",
            "Epoch [65/100], loss: 0.09396509826183319. f1:0.9786575561723279 acc: 0.9786666631698608 \n",
            "Epoch [66/100], loss: 0.09102419763803482. f1:0.979335596101261 acc: 0.9793333411216736 \n",
            "Epoch [67/100], loss: 0.08821343630552292. f1:0.9803310596043453 acc: 0.9803333282470703 \n",
            "Epoch [68/100], loss: 0.08549479395151138. f1:0.9810139581715791 acc: 0.9810000061988831 \n",
            "Epoch [69/100], loss: 0.08286076039075851. f1:0.9813465281434219 acc: 0.981333315372467 \n",
            "Epoch [70/100], loss: 0.08030886203050613. f1:0.9813465281434219 acc: 0.981333315372467 \n",
            "Epoch [71/100], loss: 0.07782720774412155. f1:0.9819925618896189 acc: 0.9819999933242798 \n",
            "Epoch [72/100], loss: 0.07545000314712524. f1:0.9819925618896189 acc: 0.9819999933242798 \n",
            "Epoch [73/100], loss: 0.07317056506872177. f1:0.9833659878500965 acc: 0.9833333492279053 \n",
            "Epoch [74/100], loss: 0.07097139954566956. f1:0.9847141989037027 acc: 0.984666645526886 \n",
            "Epoch [75/100], loss: 0.06888117641210556. f1:0.9857140484601118 acc: 0.9856666922569275 \n",
            "Epoch [76/100], loss: 0.06689170747995377. f1:0.9870673608965392 acc: 0.9869999885559082 \n",
            "Epoch [77/100], loss: 0.06497827917337418. f1:0.9873937551868737 acc: 0.987333357334137 \n",
            "Epoch [78/100], loss: 0.06312145292758942. f1:0.9880578213425316 acc: 0.9879999756813049 \n",
            "Epoch [79/100], loss: 0.061328716576099396. f1:0.9887118719294513 acc: 0.9886666536331177 \n",
            "Epoch [80/100], loss: 0.05960085615515709. f1:0.9896890503970793 acc: 0.9896666407585144 \n",
            "Epoch [81/100], loss: 0.057954031974077225. f1:0.9900334280330414 acc: 0.9900000095367432 \n",
            "Epoch [82/100], loss: 0.05636727437376976. f1:0.9903641683061132 acc: 0.9903333187103271 \n",
            "Epoch [83/100], loss: 0.05483688414096832. f1:0.9916877518644919 acc: 0.9916666746139526 \n",
            "Epoch [84/100], loss: 0.05335871875286102. f1:0.9920330855836796 acc: 0.9919999837875366 \n",
            "Epoch [85/100], loss: 0.05191698297858238. f1:0.9920330855836796 acc: 0.9919999837875366 \n",
            "Epoch [86/100], loss: 0.050508301705121994. f1:0.9920330855836796 acc: 0.9919999837875366 \n",
            "Epoch [87/100], loss: 0.0491596981883049. f1:0.9920330855836796 acc: 0.9919999837875366 \n",
            "Epoch [88/100], loss: 0.04786459356546402. f1:0.9930497364923123 acc: 0.9929999709129333 \n",
            "Epoch [89/100], loss: 0.04661180451512337. f1:0.9933893718307705 acc: 0.9933333396911621 \n",
            "Epoch [90/100], loss: 0.04539528861641884. f1:0.9937202280432867 acc: 0.9936666488647461 \n",
            "Epoch [91/100], loss: 0.044218797236680984. f1:0.9940508548297057 acc: 0.9940000176429749 \n",
            "Epoch [92/100], loss: 0.04309730604290962. f1:0.9943856323152943 acc: 0.9943333268165588 \n",
            "Epoch [93/100], loss: 0.04202064126729965. f1:0.994724059569673 acc: 0.9946666955947876 \n",
            "Epoch [94/100], loss: 0.040974874049425125. f1:0.9950546114787124 acc: 0.9950000047683716 \n",
            "Epoch [95/100], loss: 0.03994714841246605. f1:0.9950546114787124 acc: 0.9950000047683716 \n",
            "Epoch [96/100], loss: 0.03895185515284538. f1:0.9950546114787124 acc: 0.9950000047683716 \n",
            "Epoch [97/100], loss: 0.03800009563565254. f1:0.9950546114787124 acc: 0.9950000047683716 \n",
            "Epoch [98/100], loss: 0.03707968816161156. f1:0.9953825974098747 acc: 0.9953333139419556 \n",
            "Epoch [99/100], loss: 0.03619690611958504. f1:0.9963799908544452 acc: 0.9963333606719971 \n",
            "Epoch [100/100], loss: 0.03534330055117607. f1:0.9963799908544452 acc: 0.9963333606719971 \n",
            "Epoch [1/100], loss: 13.849174499511719. f1:0.06526951031598739 acc: 0.10687500238418579 \n",
            "Epoch [2/100], loss: 7.681032657623291. f1:0.07056656154596508 acc: 0.0845833346247673 \n",
            "Epoch [3/100], loss: 5.643795490264893. f1:0.11549321943372112 acc: 0.14270833134651184 \n",
            "Epoch [4/100], loss: 4.12589168548584. f1:0.1560706585586714 acc: 0.18541666865348816 \n",
            "Epoch [5/100], loss: 3.5273661613464355. f1:0.18790376889918933 acc: 0.22208333015441895 \n",
            "Epoch [6/100], loss: 3.1054651737213135. f1:0.22144103514298896 acc: 0.257708340883255 \n",
            "Epoch [7/100], loss: 2.620866537094116. f1:0.2831994465774538 acc: 0.31687501072883606 \n",
            "Epoch [8/100], loss: 2.2021899223327637. f1:0.362006064399097 acc: 0.3856250047683716 \n",
            "Epoch [9/100], loss: 1.9117848873138428. f1:0.41611096038684153 acc: 0.43291667103767395 \n",
            "Epoch [10/100], loss: 1.7183457612991333. f1:0.47816594942019963 acc: 0.4858333468437195 \n",
            "Epoch [11/100], loss: 1.5811822414398193. f1:0.5143933513194561 acc: 0.5174999833106995 \n",
            "Epoch [12/100], loss: 1.4748581647872925. f1:0.5354192210987898 acc: 0.5358333587646484 \n",
            "Epoch [13/100], loss: 1.3848025798797607. f1:0.5575552126888157 acc: 0.5560416579246521 \n",
            "Epoch [14/100], loss: 1.3008296489715576. f1:0.579852736104997 acc: 0.5772916674613953 \n",
            "Epoch [15/100], loss: 1.224752426147461. f1:0.6087362889669788 acc: 0.6058333516120911 \n",
            "Epoch [16/100], loss: 1.157038688659668. f1:0.6295457969275406 acc: 0.6264583468437195 \n",
            "Epoch [17/100], loss: 1.094049334526062. f1:0.6477286367808378 acc: 0.6449999809265137 \n",
            "Epoch [18/100], loss: 1.0353646278381348. f1:0.6671751466276651 acc: 0.6650000214576721 \n",
            "Epoch [19/100], loss: 0.9810481667518616. f1:0.6843790814991689 acc: 0.6829166412353516 \n",
            "Epoch [20/100], loss: 0.931189775466919. f1:0.7016651848662542 acc: 0.7008333206176758 \n",
            "Epoch [21/100], loss: 0.8864793181419373. f1:0.7137734418763649 acc: 0.7137500047683716 \n",
            "Epoch [22/100], loss: 0.8462622761726379. f1:0.7268572285178021 acc: 0.7275000214576721 \n",
            "Epoch [23/100], loss: 0.809874951839447. f1:0.7406596026509045 acc: 0.7418749928474426 \n",
            "Epoch [24/100], loss: 0.7766144275665283. f1:0.7542507186036362 acc: 0.7556250095367432 \n",
            "Epoch [25/100], loss: 0.7461388111114502. f1:0.7672494338042821 acc: 0.768541693687439 \n",
            "Epoch [26/100], loss: 0.7194117903709412. f1:0.7722990283855277 acc: 0.7735416889190674 \n",
            "Epoch [27/100], loss: 0.6963165402412415. f1:0.7799942521248033 acc: 0.78125 \n",
            "Epoch [28/100], loss: 0.6757293939590454. f1:0.786289726957991 acc: 0.7875000238418579 \n",
            "Epoch [29/100], loss: 0.6563621759414673. f1:0.7918631211299438 acc: 0.7929166555404663 \n",
            "Epoch [30/100], loss: 0.6373419761657715. f1:0.7957995021498353 acc: 0.796875 \n",
            "Epoch [31/100], loss: 0.6183705925941467. f1:0.801270891012203 acc: 0.8022916913032532 \n",
            "Epoch [32/100], loss: 0.5996224880218506. f1:0.8087484701653376 acc: 0.809583306312561 \n",
            "Epoch [33/100], loss: 0.5818704962730408. f1:0.8141409453155172 acc: 0.8147916793823242 \n",
            "Epoch [34/100], loss: 0.5647907257080078. f1:0.8217353540299136 acc: 0.8222916722297668 \n",
            "Epoch [35/100], loss: 0.5481172204017639. f1:0.8264953780208207 acc: 0.8268749713897705 \n",
            "Epoch [36/100], loss: 0.5318283438682556. f1:0.8320377764179886 acc: 0.8322916626930237 \n",
            "Epoch [37/100], loss: 0.5165367126464844. f1:0.8368394547179687 acc: 0.8370833396911621 \n",
            "Epoch [38/100], loss: 0.5021069049835205. f1:0.8445237878624049 acc: 0.8445833325386047 \n",
            "Epoch [39/100], loss: 0.48830753564834595. f1:0.8482824451545582 acc: 0.8483333587646484 \n",
            "Epoch [40/100], loss: 0.4751622974872589. f1:0.8540754397466491 acc: 0.8541666865348816 \n",
            "Epoch [41/100], loss: 0.46255558729171753. f1:0.857816715443376 acc: 0.8579166531562805 \n",
            "Epoch [42/100], loss: 0.4501277804374695. f1:0.8611098381163028 acc: 0.8612499833106995 \n",
            "Epoch [43/100], loss: 0.43784642219543457. f1:0.8643306804345405 acc: 0.8645833134651184 \n",
            "Epoch [44/100], loss: 0.4261053502559662. f1:0.8683952801266426 acc: 0.8687499761581421 \n",
            "Epoch [45/100], loss: 0.414978563785553. f1:0.8699901716384909 acc: 0.8704166412353516 \n",
            "Epoch [46/100], loss: 0.40453940629959106. f1:0.8730996129740305 acc: 0.8735416531562805 \n",
            "Epoch [47/100], loss: 0.39446431398391724. f1:0.8757978517829589 acc: 0.8762500286102295 \n",
            "Epoch [48/100], loss: 0.38468605279922485. f1:0.8821008876003175 acc: 0.8824999928474426 \n",
            "Epoch [49/100], loss: 0.37505900859832764. f1:0.8839970009955398 acc: 0.8843749761581421 \n",
            "Epoch [50/100], loss: 0.3660370409488678. f1:0.8864014790085406 acc: 0.8866666555404663 \n",
            "Epoch [51/100], loss: 0.3571912348270416. f1:0.8885711820723058 acc: 0.8887500166893005 \n",
            "Epoch [52/100], loss: 0.348427414894104. f1:0.8920184456055958 acc: 0.8920833468437195 \n",
            "Epoch [53/100], loss: 0.3400753140449524. f1:0.895465788618283 acc: 0.8954166769981384 \n",
            "Epoch [54/100], loss: 0.33210456371307373. f1:0.8973830501161272 acc: 0.8972916603088379 \n",
            "Epoch [55/100], loss: 0.32402145862579346. f1:0.8990483914549865 acc: 0.8989583253860474 \n",
            "Epoch [56/100], loss: 0.31566038727760315. f1:0.9010827025150485 acc: 0.9010416865348816 \n",
            "Epoch [57/100], loss: 0.3075425326824188. f1:0.9022517816684429 acc: 0.9022916555404663 \n",
            "Epoch [58/100], loss: 0.29973283410072327. f1:0.9053486038314753 acc: 0.9054166674613953 \n",
            "Epoch [59/100], loss: 0.29265928268432617. f1:0.9074325294245276 acc: 0.9075000286102295 \n",
            "Epoch [60/100], loss: 0.2857857346534729. f1:0.9101388728799839 acc: 0.9102083444595337 \n",
            "Epoch [61/100], loss: 0.27805110812187195. f1:0.9130366095509196 acc: 0.9131249785423279 \n",
            "Epoch [62/100], loss: 0.2704438865184784. f1:0.9168733224173714 acc: 0.9168750047683716 \n",
            "Epoch [63/100], loss: 0.26337751746177673. f1:0.9182984875120901 acc: 0.9183333516120911 \n",
            "Epoch [64/100], loss: 0.2567667067050934. f1:0.9203504466564834 acc: 0.9204166531562805 \n",
            "Epoch [65/100], loss: 0.25029852986335754. f1:0.9215733881681061 acc: 0.92166668176651 \n",
            "Epoch [66/100], loss: 0.24433977901935577. f1:0.9238857904489736 acc: 0.9239583611488342 \n",
            "Epoch [67/100], loss: 0.23823195695877075. f1:0.9260262137623043 acc: 0.9260416626930237 \n",
            "Epoch [68/100], loss: 0.23243890702724457. f1:0.9281343300700866 acc: 0.9281250238418579 \n",
            "Epoch [69/100], loss: 0.22684136033058167. f1:0.9308401456642699 acc: 0.9308333396911621 \n",
            "Epoch [70/100], loss: 0.22129234671592712. f1:0.9320612858649081 acc: 0.9320833086967468 \n",
            "Epoch [71/100], loss: 0.21597762405872345. f1:0.9331020866367377 acc: 0.9331250190734863 \n",
            "Epoch [72/100], loss: 0.2107917070388794. f1:0.9353777491797979 acc: 0.9354166388511658 \n",
            "Epoch [73/100], loss: 0.2057613730430603. f1:0.9374808404057872 acc: 0.9375 \n",
            "Epoch [74/100], loss: 0.20080223679542542. f1:0.9403826429433944 acc: 0.940416693687439 \n",
            "Epoch [75/100], loss: 0.1960802525281906. f1:0.9401847638684913 acc: 0.9402083158493042 \n",
            "Epoch [76/100], loss: 0.19152677059173584. f1:0.9418515942468997 acc: 0.9418749809265137 \n",
            "Epoch [77/100], loss: 0.1870398372411728. f1:0.9439433715119581 acc: 0.9439583420753479 \n",
            "Epoch [78/100], loss: 0.18266446888446808. f1:0.9453990446192087 acc: 0.9454166889190674 \n",
            "Epoch [79/100], loss: 0.17844907939434052. f1:0.9472783922789801 acc: 0.9472916722297668 \n",
            "Epoch [80/100], loss: 0.17442333698272705. f1:0.9479082500609286 acc: 0.9479166865348816 \n",
            "Epoch [81/100], loss: 0.17056804895401. f1:0.9497614169342633 acc: 0.949791669845581 \n",
            "Epoch [82/100], loss: 0.16681106388568878. f1:0.9506005970918713 acc: 0.9506250023841858 \n",
            "Epoch [83/100], loss: 0.16317357122898102. f1:0.952268615114599 acc: 0.9522916674613953 \n",
            "Epoch [84/100], loss: 0.1597389429807663. f1:0.9528906824175847 acc: 0.95291668176651 \n",
            "Epoch [85/100], loss: 0.156366765499115. f1:0.9543497604963814 acc: 0.9543750286102295 \n",
            "Epoch [86/100], loss: 0.1531115174293518. f1:0.9545516033917535 acc: 0.9545833468437195 \n",
            "Epoch [87/100], loss: 0.14995422959327698. f1:0.955806891087574 acc: 0.9558333158493042 \n",
            "Epoch [88/100], loss: 0.1468539983034134. f1:0.9566333442217599 acc: 0.9566666483879089 \n",
            "Epoch [89/100], loss: 0.14376182854175568. f1:0.9570567044837356 acc: 0.9570833444595337 \n",
            "Epoch [90/100], loss: 0.1407870203256607. f1:0.9576881228077964 acc: 0.9577083587646484 \n",
            "Epoch [91/100], loss: 0.1378849297761917. f1:0.9589117514718548 acc: 0.9589583277702332 \n",
            "Epoch [92/100], loss: 0.1350737363100052. f1:0.9601459915361321 acc: 0.9602083563804626 \n",
            "Epoch [93/100], loss: 0.13232429325580597. f1:0.9607613379908984 acc: 0.9608333110809326 \n",
            "Epoch [94/100], loss: 0.1296330988407135. f1:0.961591960536094 acc: 0.9616666436195374 \n",
            "Epoch [95/100], loss: 0.12698209285736084. f1:0.9641012570847904 acc: 0.9641666412353516 \n",
            "Epoch [96/100], loss: 0.12441790103912354. f1:0.9651370536556005 acc: 0.9652083516120911 \n",
            "Epoch [97/100], loss: 0.12193557620048523. f1:0.9659824350593672 acc: 0.9660416841506958 \n",
            "Epoch [98/100], loss: 0.11948761343955994. f1:0.9666108790148806 acc: 0.9666666388511658 \n",
            "Epoch [99/100], loss: 0.11705472320318222. f1:0.967450218939353 acc: 0.9674999713897705 \n",
            "Epoch [100/100], loss: 0.11467806249856949. f1:0.9684862521407892 acc: 0.96854168176651 \n",
            "Epoch [1/100], loss: 11.805757522583008. f1:0.04141674021686846 acc: 0.06683333218097687 \n",
            "Epoch [2/100], loss: 6.01400899887085. f1:0.10530453809882315 acc: 0.1303333342075348 \n",
            "Epoch [3/100], loss: 3.7820863723754883. f1:0.21357986985306204 acc: 0.2318333387374878 \n",
            "Epoch [4/100], loss: 2.8782191276550293. f1:0.286011502877079 acc: 0.29499998688697815 \n",
            "Epoch [5/100], loss: 2.254648447036743. f1:0.3555121796635701 acc: 0.3630000054836273 \n",
            "Epoch [6/100], loss: 1.9595305919647217. f1:0.39446592945082076 acc: 0.4033333361148834 \n",
            "Epoch [7/100], loss: 1.7620574235916138. f1:0.4371961115263742 acc: 0.4440000057220459 \n",
            "Epoch [8/100], loss: 1.5859134197235107. f1:0.4783063259685199 acc: 0.48233333230018616 \n",
            "Epoch [9/100], loss: 1.4305126667022705. f1:0.5306091764868452 acc: 0.531499981880188 \n",
            "Epoch [10/100], loss: 1.3076157569885254. f1:0.5787029738937289 acc: 0.5786666870117188 \n",
            "Epoch [11/100], loss: 1.2161977291107178. f1:0.6182032582402981 acc: 0.6181666851043701 \n",
            "Epoch [12/100], loss: 1.134753704071045. f1:0.6517132845757513 acc: 0.652999997138977 \n",
            "Epoch [13/100], loss: 1.0534615516662598. f1:0.6769713999835882 acc: 0.6793333292007446 \n",
            "Epoch [14/100], loss: 0.9779013395309448. f1:0.7010087985295947 acc: 0.7041666507720947 \n",
            "Epoch [15/100], loss: 0.9138655662536621. f1:0.7211386359291003 acc: 0.7250000238418579 \n",
            "Epoch [16/100], loss: 0.8591713309288025. f1:0.7400660820051496 acc: 0.7438333630561829 \n",
            "Epoch [17/100], loss: 0.8109793066978455. f1:0.7583070525125543 acc: 0.7613333463668823 \n",
            "Epoch [18/100], loss: 0.7668014168739319. f1:0.771168264549115 acc: 0.7736666798591614 \n",
            "Epoch [19/100], loss: 0.7268921136856079. f1:0.7869508097647628 acc: 0.7886666655540466 \n",
            "Epoch [20/100], loss: 0.6900334358215332. f1:0.7978761222963079 acc: 0.7991666793823242 \n",
            "Epoch [21/100], loss: 0.6549697518348694. f1:0.8076280193471028 acc: 0.8084999918937683 \n",
            "Epoch [22/100], loss: 0.6227437853813171. f1:0.8143564457455865 acc: 0.8148333430290222 \n",
            "Epoch [23/100], loss: 0.5951480865478516. f1:0.8253186369950068 acc: 0.8255000114440918 \n",
            "Epoch [24/100], loss: 0.5723749995231628. f1:0.8335753492526958 acc: 0.8335000276565552 \n",
            "Epoch [25/100], loss: 0.5520824193954468. f1:0.8377905397804983 acc: 0.8374999761581421 \n",
            "Epoch [26/100], loss: 0.5324203372001648. f1:0.8431374111089032 acc: 0.8426666855812073 \n",
            "Epoch [27/100], loss: 0.5125766396522522. f1:0.8490406121522623 acc: 0.8485000133514404 \n",
            "Epoch [28/100], loss: 0.4928949475288391. f1:0.8550324911582188 acc: 0.8543333411216736 \n",
            "Epoch [29/100], loss: 0.4745456874370575. f1:0.8583288944179271 acc: 0.8576666712760925 \n",
            "Epoch [30/100], loss: 0.4577522873878479. f1:0.8647597096666525 acc: 0.8641666769981384 \n",
            "Epoch [31/100], loss: 0.44199785590171814. f1:0.8680468618453459 acc: 0.8675000071525574 \n",
            "Epoch [32/100], loss: 0.4271051287651062. f1:0.8737900387879558 acc: 0.8733333349227905 \n",
            "Epoch [33/100], loss: 0.4127769470214844. f1:0.8802692711323509 acc: 0.8799999952316284 \n",
            "Epoch [34/100], loss: 0.3992551267147064. f1:0.8827000495742189 acc: 0.8824999928474426 \n",
            "Epoch [35/100], loss: 0.3864489197731018. f1:0.8859456386229002 acc: 0.8858333230018616 \n",
            "Epoch [36/100], loss: 0.3740505278110504. f1:0.8895042328043166 acc: 0.8893333077430725 \n",
            "Epoch [37/100], loss: 0.3619580566883087. f1:0.8928527921576119 acc: 0.8926666378974915 \n",
            "Epoch [38/100], loss: 0.3501739203929901. f1:0.8962147322436289 acc: 0.8960000276565552 \n",
            "Epoch [39/100], loss: 0.3388594090938568. f1:0.9006823368753392 acc: 0.9004999995231628 \n",
            "Epoch [40/100], loss: 0.3282897174358368. f1:0.903551304852966 acc: 0.903333306312561 \n",
            "Epoch [41/100], loss: 0.3182823956012726. f1:0.9062957385112229 acc: 0.906000018119812 \n",
            "Epoch [42/100], loss: 0.30882540345191956. f1:0.9092774772809188 acc: 0.9089999794960022 \n",
            "Epoch [43/100], loss: 0.30001744627952576. f1:0.911795890347034 acc: 0.9114999771118164 \n",
            "Epoch [44/100], loss: 0.2918708026409149. f1:0.9139503588230584 acc: 0.9136666655540466 \n",
            "Epoch [45/100], loss: 0.28402000665664673. f1:0.9164407875101087 acc: 0.9161666631698608 \n",
            "Epoch [46/100], loss: 0.27638906240463257. f1:0.9177250300707153 acc: 0.9175000190734863 \n",
            "Epoch [47/100], loss: 0.26895928382873535. f1:0.9183385531340182 acc: 0.9181666374206543 \n",
            "Epoch [48/100], loss: 0.2619874179363251. f1:0.9210096372818297 acc: 0.9208333492279053 \n",
            "Epoch [49/100], loss: 0.2554260790348053. f1:0.9234883415076534 acc: 0.9233333468437195 \n",
            "Epoch [50/100], loss: 0.24907515943050385. f1:0.9243009012612873 acc: 0.9241666793823242 \n",
            "Epoch [51/100], loss: 0.2429058998823166. f1:0.9259415977542977 acc: 0.9258333444595337 \n",
            "Epoch [52/100], loss: 0.23690561950206757. f1:0.9272495485743694 acc: 0.9271666407585144 \n",
            "Epoch [53/100], loss: 0.23109914362430573. f1:0.9293997863034896 acc: 0.9293333292007446 \n",
            "Epoch [54/100], loss: 0.2254810333251953. f1:0.9309187423600254 acc: 0.9308333396911621 \n",
            "Epoch [55/100], loss: 0.2200799286365509. f1:0.9321036066523275 acc: 0.9319999814033508 \n",
            "Epoch [56/100], loss: 0.21492278575897217. f1:0.9334387853225954 acc: 0.9333333373069763 \n",
            "Epoch [57/100], loss: 0.2099607288837433. f1:0.9352762614756784 acc: 0.9351666569709778 \n",
            "Epoch [58/100], loss: 0.2051696926355362. f1:0.9366001508783134 acc: 0.9365000128746033 \n",
            "Epoch [59/100], loss: 0.20052096247673035. f1:0.9387663434753948 acc: 0.9386666417121887 \n",
            "Epoch [60/100], loss: 0.19595114886760712. f1:0.9402671797633863 acc: 0.9401666522026062 \n",
            "Epoch [61/100], loss: 0.19156651198863983. f1:0.941252457241853 acc: 0.9411666393280029 \n",
            "Epoch [62/100], loss: 0.18735742568969727. f1:0.9429272694023079 acc: 0.9428333044052124 \n",
            "Epoch [63/100], loss: 0.18324528634548187. f1:0.9452425341177684 acc: 0.9451666474342346 \n",
            "Epoch [64/100], loss: 0.17923441529273987. f1:0.9462486530722126 acc: 0.9461666941642761 \n",
            "Epoch [65/100], loss: 0.17536482214927673. f1:0.9474022885751682 acc: 0.9473333358764648 \n",
            "Epoch [66/100], loss: 0.17161770164966583. f1:0.949216531488195 acc: 0.9491666555404663 \n",
            "Epoch [67/100], loss: 0.16795656085014343. f1:0.9512116913851913 acc: 0.9511666893959045 \n",
            "Epoch [68/100], loss: 0.16445349156856537. f1:0.9517188059711611 acc: 0.9516666531562805 \n",
            "Epoch [69/100], loss: 0.16108709573745728. f1:0.953054562523292 acc: 0.953000009059906 \n",
            "Epoch [70/100], loss: 0.15780864655971527. f1:0.9547168966685353 acc: 0.9546666741371155 \n",
            "Epoch [71/100], loss: 0.15462054312229156. f1:0.9562097637974514 acc: 0.956166684627533 \n",
            "Epoch [72/100], loss: 0.15151937305927277. f1:0.9570403025018356 acc: 0.9570000171661377 \n",
            "Epoch [73/100], loss: 0.14849576354026794. f1:0.95854052975734 acc: 0.9585000276565552 \n",
            "Epoch [74/100], loss: 0.14556778967380524. f1:0.9605239872072182 acc: 0.9605000019073486 \n",
            "Epoch [75/100], loss: 0.14272640645503998. f1:0.9618467222015579 acc: 0.9618333578109741 \n",
            "Epoch [76/100], loss: 0.13996554911136627. f1:0.9625058281803389 acc: 0.9624999761581421 \n",
            "Epoch [77/100], loss: 0.13725852966308594. f1:0.963010048299072 acc: 0.9629999995231628 \n",
            "Epoch [78/100], loss: 0.1346261352300644. f1:0.9640165048603461 acc: 0.9639999866485596 \n",
            "Epoch [79/100], loss: 0.13206882774829865. f1:0.9650268063460142 acc: 0.9649999737739563 \n",
            "Epoch [80/100], loss: 0.12957705557346344. f1:0.9651942650128795 acc: 0.9651666879653931 \n",
            "Epoch [81/100], loss: 0.12715739011764526. f1:0.9658694314538574 acc: 0.965833306312561 \n",
            "Epoch [82/100], loss: 0.12481527775526047. f1:0.9663704614641038 acc: 0.9663333296775818 \n",
            "Epoch [83/100], loss: 0.12253653258085251. f1:0.9668716747116267 acc: 0.9668333530426025 \n",
            "Epoch [84/100], loss: 0.12030613422393799. f1:0.9678703697040284 acc: 0.9678333401679993 \n",
            "Epoch [85/100], loss: 0.11811850965023041. f1:0.9680450373164149 acc: 0.9679999947547913 \n",
            "Epoch [86/100], loss: 0.11598074436187744. f1:0.9682180870273023 acc: 0.9681666493415833 \n",
            "Epoch [87/100], loss: 0.11390624195337296. f1:0.9690464518533194 acc: 0.968999981880188 \n",
            "Epoch [88/100], loss: 0.11188073456287384. f1:0.9693813015060471 acc: 0.9693333506584167 \n",
            "Epoch [89/100], loss: 0.1099013090133667. f1:0.9710539653787716 acc: 0.9710000157356262 \n",
            "Epoch [90/100], loss: 0.10797462612390518. f1:0.9717084936868625 acc: 0.971666693687439 \n",
            "Epoch [91/100], loss: 0.10607607662677765. f1:0.9725414270320863 acc: 0.9725000262260437 \n",
            "Epoch [92/100], loss: 0.10422923415899277. f1:0.9737107598783593 acc: 0.9736666679382324 \n",
            "Epoch [93/100], loss: 0.10243169218301773. f1:0.9743724664263173 acc: 0.9743333458900452 \n",
            "Epoch [94/100], loss: 0.10067476332187653. f1:0.974705766442525 acc: 0.9746666550636292 \n",
            "Epoch [95/100], loss: 0.09898807853460312. f1:0.9757088172485245 acc: 0.9756666421890259 \n",
            "Epoch [96/100], loss: 0.09733124077320099. f1:0.976373361185088 acc: 0.9763333201408386 \n",
            "Epoch [97/100], loss: 0.09570027887821198. f1:0.9771941840416869 acc: 0.9771666526794434 \n",
            "Epoch [98/100], loss: 0.09410212188959122. f1:0.9781933456462678 acc: 0.9781666398048401 \n",
            "Epoch [99/100], loss: 0.0925210639834404. f1:0.9788659040417859 acc: 0.9788333177566528 \n",
            "Epoch [100/100], loss: 0.09097762405872345. f1:0.9791971191665692 acc: 0.9791666865348816 \n"
          ],
          "name": "stdout"
        }
      ]
    },
    {
      "cell_type": "code",
      "metadata": {
        "colab": {
          "base_uri": "https://localhost:8080/",
          "height": 1000
        },
        "id": "djyRNoTsfw6o",
        "outputId": "d7589ef0-a82c-46b9-beb2-071eb7271fd2"
      },
      "source": [
        "#-- Visualizamos las curvas de entrenamiento y validación para el grupo 1\n",
        "\n",
        "fig = plt.figure(figsize=(15,5))\n",
        "plt.subplot(1,3,1)\n",
        "plt.plot(range(n_epoch), loss_train_1, label='train')\n",
        "plt.plot(range(n_epoch), loss_valid_1, label='valid')\n",
        "plt.xlabel('n_epoch')\n",
        "plt.ylabel('loss_1')\n",
        "plt.legend()\n",
        "plt.grid()\n",
        "plt.subplot(1,3,2)\n",
        "plt.plot(range(n_epoch), f1_train_1, label='train')\n",
        "plt.plot(range(n_epoch), f1_valid_1, label='valid')\n",
        "plt.xlabel('n_epoch')\n",
        "plt.ylabel('f1_score_1')\n",
        "plt.legend()\n",
        "plt.grid()\n",
        "plt.subplot(1,3,3)\n",
        "plt.plot(range(n_epoch), acc_train_1, label='train')\n",
        "plt.plot(range(n_epoch), acc_valid_1, label='valid')\n",
        "plt.xlabel('n_epoch')\n",
        "plt.ylabel('accuracy_1')\n",
        "plt.legend()\n",
        "plt.grid()\n",
        "\n",
        "plt.savefig('./curves_ok.png', bbox_inches='tight')\n",
        "plt.show()\n",
        "\n",
        "#-- Visualizamos las curvas de entrenamiento y validación para el grupo 2\n",
        "\n",
        "fig = plt.figure(figsize=(15,5))\n",
        "plt.subplot(1,3,1)\n",
        "plt.plot(range(n_epoch), loss_train_2, label='train')\n",
        "plt.plot(range(n_epoch), loss_valid_2, label='valid')\n",
        "plt.xlabel('n_epoch')\n",
        "plt.ylabel('loss_2')\n",
        "plt.legend()\n",
        "plt.grid()\n",
        "plt.subplot(1,3,2)\n",
        "plt.plot(range(n_epoch), f1_train_2, label='train')\n",
        "plt.plot(range(n_epoch), f1_valid_2, label='valid')\n",
        "plt.xlabel('n_epoch')\n",
        "plt.ylabel('f1_score_2')\n",
        "plt.legend()\n",
        "plt.grid()\n",
        "plt.subplot(1,3,3)\n",
        "plt.plot(range(n_epoch), acc_train_2, label='train')\n",
        "plt.plot(range(n_epoch), acc_valid_2, label='valid')\n",
        "plt.xlabel('n_epoch')\n",
        "plt.ylabel('accuracy_2')\n",
        "plt.legend()\n",
        "plt.grid()\n",
        "\n",
        "plt.savefig('./curves_ok.png', bbox_inches='tight')\n",
        "plt.show()\n",
        "\n",
        "#-- Visualizamos las curvas de entrenamiento y validación para el grupo 3\n",
        "\n",
        "fig = plt.figure(figsize=(15,5))\n",
        "plt.subplot(1,3,1)\n",
        "plt.plot(range(n_epoch), loss_train_3, label='train')\n",
        "plt.plot(range(n_epoch), loss_valid_3, label='valid')\n",
        "plt.xlabel('n_epoch')\n",
        "plt.ylabel('loss_3')\n",
        "plt.legend()\n",
        "plt.grid()\n",
        "plt.subplot(1,3,2)\n",
        "plt.plot(range(n_epoch), f1_train_3, label='train')\n",
        "plt.plot(range(n_epoch), f1_valid_3, label='valid')\n",
        "plt.xlabel('n_epoch')\n",
        "plt.ylabel('f1_score_3')\n",
        "plt.legend()\n",
        "plt.grid()\n",
        "plt.subplot(1,3,3)\n",
        "plt.plot(range(n_epoch), acc_train_3, label='train')\n",
        "plt.plot(range(n_epoch), acc_valid_3, label='valid')\n",
        "plt.xlabel('n_epoch')\n",
        "plt.ylabel('accuracy_3')\n",
        "plt.legend()\n",
        "plt.grid()\n",
        "\n",
        "plt.savefig('./curves_ok.png', bbox_inches='tight')\n",
        "plt.show()\n",
        "\n",
        "#-- Visualizamos las curvas de entrenamiento y validación para el grupo 4\n",
        "\n",
        "fig = plt.figure(figsize=(15,5))\n",
        "plt.subplot(1,3,1)\n",
        "plt.plot(range(n_epoch), loss_train_4, label='train')\n",
        "plt.plot(range(n_epoch), loss_valid_4, label='valid')\n",
        "plt.xlabel('n_epoch')\n",
        "plt.ylabel('loss_4')\n",
        "plt.legend()\n",
        "plt.grid()\n",
        "plt.subplot(1,3,2)\n",
        "plt.plot(range(n_epoch), f1_train_4, label='train')\n",
        "plt.plot(range(n_epoch), f1_valid_4, label='valid')\n",
        "plt.xlabel('n_epoch')\n",
        "plt.ylabel('f1_score_4')\n",
        "plt.legend()\n",
        "plt.grid()\n",
        "plt.subplot(1,3,3)\n",
        "plt.plot(range(n_epoch), acc_train_4, label='train')\n",
        "plt.plot(range(n_epoch), acc_valid_4, label='valid')\n",
        "plt.xlabel('n_epoch')\n",
        "plt.ylabel('accuracy_4')\n",
        "plt.legend()\n",
        "plt.grid()\n",
        "\n",
        "plt.savefig('./curves_ok.png', bbox_inches='tight')\n",
        "plt.show()\n",
        "\n",
        "#-- Visualizamos las curvas de entrenamiento y validación para el grupo 5\n",
        "\n",
        "fig = plt.figure(figsize=(15,5))\n",
        "plt.subplot(1,3,1)\n",
        "plt.plot(range(n_epoch), loss_train_5, label='train')\n",
        "plt.plot(range(n_epoch), loss_valid_5, label='valid')\n",
        "plt.xlabel('n_epoch')\n",
        "plt.ylabel('loss_5')\n",
        "plt.legend()\n",
        "plt.grid()\n",
        "plt.subplot(1,3,2)\n",
        "plt.plot(range(n_epoch), f1_train_5, label='train')\n",
        "plt.plot(range(n_epoch), f1_valid_5, label='valid')\n",
        "plt.xlabel('n_epoch')\n",
        "plt.ylabel('f1_score_5')\n",
        "plt.legend()\n",
        "plt.grid()\n",
        "plt.subplot(1,3,3)\n",
        "plt.plot(range(n_epoch), acc_train_5, label='train')\n",
        "plt.plot(range(n_epoch), acc_valid_5, label='valid')\n",
        "plt.xlabel('n_epoch')\n",
        "plt.ylabel('accuracy_5')\n",
        "plt.legend()\n",
        "plt.grid()\n",
        "\n",
        "plt.savefig('./curves_ok.png', bbox_inches='tight')\n",
        "plt.show()"
      ],
      "execution_count": 21,
      "outputs": [
        {
          "output_type": "display_data",
          "data": {
            "image/png": "[encoded data removed]",
            "text/plain": [
              "<Figure size 1080x360 with 3 Axes>"
            ]
          },
          "metadata": {
            "needs_background": "light"
          }
        },
        {
          "output_type": "display_data",
          "data": {
            "image/png": "[encoded data removed]",
            "text/plain": [
              "<Figure size 1080x360 with 3 Axes>"
            ]
          },
          "metadata": {
            "needs_background": "light"
          }
        },
        {
          "output_type": "display_data",
          "data": {
            "image/png": "[encoded data removed]",
            "text/plain": [
              "<Figure size 1080x360 with 3 Axes>"
            ]
          },
          "metadata": {
            "needs_background": "light"
          }
        },
        {
          "output_type": "display_data",
          "data": {
            "image/png": "[encoded data removed]",
            "text/plain": [
              "<Figure size 1080x360 with 3 Axes>"
            ]
          },
          "metadata": {
            "needs_background": "light"
          }
        },
        {
          "output_type": "display_data",
          "data": {
            "image/png": "[encoded data removed]",
            "text/plain": [
              "<Figure size 1080x360 with 3 Axes>"
            ]
          },
          "metadata": {
            "needs_background": "light"
          }
        }
      ]
    },
    {
      "cell_type": "markdown",
      "metadata": {
        "id": "G_YlcZValhMl"
      },
      "source": [
        "### Tras obtener las gráficas para los $3$ scores distintos (*loss*, *$f_1$* y *accuracy*, observamos que:\n",
        "\n",
        "$(i)$ El tamaño en el conjunto de entrenamiento nos permite la posibilidad de comprender qué número de elementos son necesarios para que nuestro modelo pueda tener una cercanía óptima a los datos del conjunto de validación. Las curvas nos muestran que a mayor número de elementos entrenados, las curvas de train y valid se asemejarán en buena medida, incluso tras pasar un grannúmero de épocas. Esto resalta un pensamiento intuitivo sobre el cual mientras se tenga más datos para entrenar, se debería llegar a mejor resultados en la valoración.\n",
        "\n",
        "$(ii)$ Las curvas de entrenamiento y valoración se asemejan mucho a tempranas épocas para todos los modelos pero se empiezan a distanciar mucho más para mayores épocas. La pérdida baja considerablemente rápido en todos los casos, pero en la medida que aumentamos el número de elementos de entrenamiento, la curva de validación se parecerá mucho más a la curva de pérdida de entrenamiento. Por otro lado, para $f_1$ y accuracy, también se tienen comportamientos semejantes en cada caso para la curva de etrenamiento, y para mayor número de elementos de entrenamiento, la curva de validación logra llegar incluso a valores cercanos a $0.9$ para ambos scores.\n",
        "\n",
        "$(iii)$ Los resultados obtenidos nos muestran que un mayor número de elementos para el entrenamiento nos permitirá una mayor probabilidad de que coincidan con los datos de validación, en tanto que los scores de $f_1$ y accuracy aumentarán según aumento este número de elementos y loss disminuirá por su parte.\n",
        "\n"
      ]
    },
    {
      "cell_type": "code",
      "metadata": {
        "colab": {
          "base_uri": "https://localhost:8080/"
        },
        "id": "IJ_SFDqc58K9",
        "outputId": "9d0f4241-628d-482c-ba70-1ed22b4800e7"
      },
      "source": [
        "#-- Evaluamos el modelo 1 entrenado con el set de testeo completo.\n",
        "\n",
        "model_1.eval()\n",
        "\n",
        "Xts_1 = X_test.view(X_test.size(0), -1)\n",
        "Y_pred_1 = model_1(Xts_1)  \n",
        "loss_1 = criterion(Y_pred_1,Y_test)\n",
        "\n",
        "Y_pred_1 = torch.argmax(Y_pred_1, 1)\n",
        "f1_1 = f1_score(Y_test, Y_pred_1, average='macro')\n",
        "\n",
        "acc_1 = sum(Y_test == Y_pred_1)/len(Y_pred_1)\n",
        "\n",
        "print('loss: {}, f1: {}, acc: {}'.format(loss_1.item(), f1_1, acc_1))"
      ],
      "execution_count": 22,
      "outputs": [
        {
          "output_type": "stream",
          "text": [
            "loss: 1.0420584678649902, f1: 0.8013431976631455, acc: 0.805443525314331\n"
          ],
          "name": "stdout"
        }
      ]
    },
    {
      "cell_type": "code",
      "metadata": {
        "colab": {
          "base_uri": "https://localhost:8080/"
        },
        "id": "9gbHv_7yVW29",
        "outputId": "2561bfe0-827d-4cf8-dc13-a1e5362d8de3"
      },
      "source": [
        "#-- Evaluamos el modelo 2 entrenado con el set de testeo completo.\n",
        "\n",
        "model_2.eval()\n",
        "\n",
        "Xts_2 = X_test.view(X_test.size(0), -1)\n",
        "Y_pred_2 = model_2(Xts_2)  \n",
        "loss_2 = criterion(Y_pred_2,Y_test)\n",
        "\n",
        "Y_pred_2 = torch.argmax(Y_pred_2, 1)\n",
        "f1_2 = f1_score(Y_test, Y_pred_2, average='macro')\n",
        "\n",
        "acc_2 = sum(Y_test == Y_pred_2)/len(Y_pred_2)\n",
        "\n",
        "print('loss: {}, f1: {}, acc: {}'.format(loss_2.item(), f1_2, acc_2))"
      ],
      "execution_count": 23,
      "outputs": [
        {
          "output_type": "stream",
          "text": [
            "loss: 0.6346357464790344, f1: 0.8466963000692133, acc: 0.8477822542190552\n"
          ],
          "name": "stdout"
        }
      ]
    },
    {
      "cell_type": "code",
      "metadata": {
        "colab": {
          "base_uri": "https://localhost:8080/"
        },
        "id": "KCuKnEstVkzM",
        "outputId": "edd300b5-ec09-4351-9b19-60ab31ae4ce2"
      },
      "source": [
        "#-- Evaluamos el modelo 3 entrenado con el set de testeo completo.\n",
        "\n",
        "model_3.eval()\n",
        "\n",
        "Xts_3 = X_test.view(X_test.size(0), -1)\n",
        "Y_pred_3 = model_3(Xts_3)  \n",
        "loss_3 = criterion(Y_pred_3,Y_test)\n",
        "\n",
        "Y_pred_3 = torch.argmax(Y_pred_3, 1)\n",
        "f1_3 = f1_score(Y_test, Y_pred_3, average='macro')\n",
        "\n",
        "acc_3 = sum(Y_test == Y_pred_3)/len(Y_pred_3)\n",
        "\n",
        "print('loss: {}, f1: {}, acc: {}'.format(loss_3.item(), f1_3, acc_3))"
      ],
      "execution_count": 24,
      "outputs": [
        {
          "output_type": "stream",
          "text": [
            "loss: 0.4413227140903473, f1: 0.9041376612456149, acc: 0.9042338728904724\n"
          ],
          "name": "stdout"
        }
      ]
    },
    {
      "cell_type": "code",
      "metadata": {
        "colab": {
          "base_uri": "https://localhost:8080/"
        },
        "id": "WB7R-ikKVxJv",
        "outputId": "9ac2fad0-10f8-4cf7-8c0c-29591beb265e"
      },
      "source": [
        "#-- Evaluamos el modelo 4 entrenado con el set de testeo completo.\n",
        "\n",
        "model_4.eval()\n",
        "\n",
        "Xts_4 = X_test.view(X_test.size(0), -1)\n",
        "Y_pred_4 = model_4(Xts_4)  \n",
        "loss_4 = criterion(Y_pred_4,Y_test)\n",
        "\n",
        "Y_pred_4 = torch.argmax(Y_pred_4, 1)\n",
        "f1_4 = f1_score(Y_test, Y_pred_4, average='macro')\n",
        "\n",
        "acc_4 = sum(Y_test == Y_pred_4)/len(Y_pred_4)\n",
        "\n",
        "print('loss: {}, f1: {}, acc: {}'.format(loss_4.item(), f1_4, acc_4))"
      ],
      "execution_count": 25,
      "outputs": [
        {
          "output_type": "stream",
          "text": [
            "loss: 0.3813053071498871, f1: 0.895738994027416, acc: 0.8961693644523621\n"
          ],
          "name": "stdout"
        }
      ]
    },
    {
      "cell_type": "code",
      "metadata": {
        "colab": {
          "base_uri": "https://localhost:8080/"
        },
        "id": "eMw235uwV-rj",
        "outputId": "ed847e11-3d3f-49fd-ed13-853974523d57"
      },
      "source": [
        "#-- Evaluamos el modelo 5 entrenado con el set de testeo completo.\n",
        "\n",
        "model_5.eval()\n",
        "\n",
        "Xts_5 = X_test.view(X_test.size(0), -1)\n",
        "Y_pred_5 = model_5(Xts_5)  \n",
        "loss_5 = criterion(Y_pred_5,Y_test)\n",
        "\n",
        "Y_pred_5 = torch.argmax(Y_pred_5, 1)\n",
        "f1_5 = f1_score(Y_test, Y_pred_5, average='macro')\n",
        "\n",
        "acc_5 = sum(Y_test == Y_pred_5)/len(Y_pred_5)\n",
        "\n",
        "print('loss: {}, f1: {}, acc: {}'.format(loss_5.item(), f1_5, acc_5))"
      ],
      "execution_count": 26,
      "outputs": [
        {
          "output_type": "stream",
          "text": [
            "loss: 0.3375856578350067, f1: 0.9076060185111249, acc: 0.9082661271095276\n"
          ],
          "name": "stdout"
        }
      ]
    },
    {
      "cell_type": "markdown",
      "metadata": {
        "id": "MdMSzz1hWIe_"
      },
      "source": [
        "Estos datos nos confirman los resultados obtenidos en la gráficas anteriores.\n",
        "Ahora seguimos a la parte 2."
      ]
    },
    {
      "cell_type": "code",
      "metadata": {
        "colab": {
          "base_uri": "https://localhost:8080/"
        },
        "id": "n_ePXpeXYLKm",
        "outputId": "0eec61cb-f104-4519-dfcc-2f63d9cb1d9b"
      },
      "source": [
        "#-- Evaluamos el modelo 1 entrenado con el set de testeo al 10%\n",
        "\n",
        "model_1.eval()\n",
        "\n",
        "Xts_1 = X_test_1.view(X_test_1.size(0), -1)\n",
        "Y_pred_1 = model_1(Xts_1)  \n",
        "loss_1 = criterion(Y_pred_1,Y_test_1)\n",
        "\n",
        "Y_pred_1 = torch.argmax(Y_pred_1, 1)\n",
        "f1_1 = f1_score(Y_test_1, Y_pred_1, average='macro')\n",
        "\n",
        "acc_1 = sum(Y_test_1 == Y_pred_1)/len(Y_pred_1)\n",
        "\n",
        "print('loss: {}, f1: {}, acc: {}'.format(loss_1.item(), f1_1, acc_1))"
      ],
      "execution_count": 27,
      "outputs": [
        {
          "output_type": "stream",
          "text": [
            "loss: 0.9771382212638855, f1: 0.774853969559852, acc: 0.7878788113594055\n"
          ],
          "name": "stdout"
        }
      ]
    },
    {
      "cell_type": "code",
      "metadata": {
        "colab": {
          "base_uri": "https://localhost:8080/"
        },
        "id": "ALnz8KChaDmv",
        "outputId": "08db010c-2c78-4f80-fa61-da1ef47751ac"
      },
      "source": [
        "#-- Evaluamos el modelo 2 entrenado con el set de testeo al 20%\n",
        "\n",
        "model_2.eval()\n",
        "\n",
        "Xts_2 = X_test_2.view(X_test_2.size(0), -1)\n",
        "Y_pred_2 = model_2(Xts_2)  \n",
        "loss_2 = criterion(Y_pred_2,Y_test_2)\n",
        "\n",
        "Y_pred_2 = torch.argmax(Y_pred_2, 1)\n",
        "f1_2 = f1_score(Y_test_2, Y_pred_2, average='macro')\n",
        "\n",
        "acc_2 = sum(Y_test_2 == Y_pred_2)/len(Y_pred_2)\n",
        "\n",
        "print('loss: {}, f1: {}, acc: {}'.format(loss_2.item(), f1_2, acc_2))"
      ],
      "execution_count": 28,
      "outputs": [
        {
          "output_type": "stream",
          "text": [
            "loss: 0.3900374472141266, f1: 0.8580587596779221, acc: 0.868686854839325\n"
          ],
          "name": "stdout"
        }
      ]
    },
    {
      "cell_type": "code",
      "metadata": {
        "colab": {
          "base_uri": "https://localhost:8080/"
        },
        "id": "0c229BhBaVu3",
        "outputId": "9da4e028-82df-4c62-8746-ab9b32c4a4b6"
      },
      "source": [
        "#-- Evaluamos el modelo 3 entrenado con el set de testeo al 50%\n",
        "\n",
        "model_3.eval()\n",
        "\n",
        "Xts_3 = X_test_3.view(X_test_3.size(0), -1)\n",
        "Y_pred_3 = model_3(Xts_3)  \n",
        "loss_3 = criterion(Y_pred_3,Y_test_3)\n",
        "\n",
        "Y_pred_3 = torch.argmax(Y_pred_3, 1)\n",
        "f1_3 = f1_score(Y_test_3, Y_pred_3, average='macro')\n",
        "\n",
        "acc_3 = sum(Y_test_3 == Y_pred_3)/len(Y_pred_3)\n",
        "\n",
        "print('loss: {}, f1: {}, acc: {}'.format(loss_3.item(), f1_3, acc_3))"
      ],
      "execution_count": 29,
      "outputs": [
        {
          "output_type": "stream",
          "text": [
            "loss: 0.3447514772415161, f1: 0.9020207755667681, acc: 0.9052419066429138\n"
          ],
          "name": "stdout"
        }
      ]
    },
    {
      "cell_type": "code",
      "metadata": {
        "colab": {
          "base_uri": "https://localhost:8080/"
        },
        "id": "LGavnhmLa2C1",
        "outputId": "5f3e1c55-faa6-4351-e695-977e5af66c4a"
      },
      "source": [
        "#-- Evaluamos el modelo 4 entrenado con el set de testeo al 80%\n",
        "\n",
        "model_4.eval()\n",
        "\n",
        "Xts_4 = X_test_4.view(X_test_4.size(0), -1)\n",
        "Y_pred_4 = model_4(Xts_4)  \n",
        "loss_4 = criterion(Y_pred_4,Y_test_4)\n",
        "\n",
        "Y_pred_4 = torch.argmax(Y_pred_4, 1)\n",
        "f1_4 = f1_score(Y_test_4, Y_pred_4, average='macro')\n",
        "\n",
        "acc_4 = sum(Y_test_4 == Y_pred_4)/len(Y_pred_4)\n",
        "\n",
        "print('loss: {}, f1: {}, acc: {}'.format(loss_4.item(), f1_4, acc_4))"
      ],
      "execution_count": 30,
      "outputs": [
        {
          "output_type": "stream",
          "text": [
            "loss: 0.3865731954574585, f1: 0.9011471716992399, acc: 0.9016393423080444\n"
          ],
          "name": "stdout"
        }
      ]
    },
    {
      "cell_type": "code",
      "metadata": {
        "colab": {
          "base_uri": "https://localhost:8080/"
        },
        "id": "g3xdoRBQbGsD",
        "outputId": "0bdaf382-a13d-4184-b49b-3eb8612e8139"
      },
      "source": [
        "#-- Evaluamos el modelo 5 entrenado con el set de testeo al 100%\n",
        "\n",
        "model_5.eval()\n",
        "\n",
        "Xts_5 = X_test_5.view(X_test_5.size(0), -1)\n",
        "Y_pred_5 = model_5(Xts_5)  \n",
        "loss_5 = criterion(Y_pred_5,Y_test_5)\n",
        "\n",
        "Y_pred_5 = torch.argmax(Y_pred_5, 1)\n",
        "f1_5 = f1_score(Y_test_5, Y_pred_5, average='macro')\n",
        "\n",
        "acc_5 = sum(Y_test_5 == Y_pred_5)/len(Y_pred_5)\n",
        "\n",
        "print('loss: {}, f1: {}, acc: {}'.format(loss_5.item(), f1_5, acc_5))"
      ],
      "execution_count": 31,
      "outputs": [
        {
          "output_type": "stream",
          "text": [
            "loss: 0.3375856876373291, f1: 0.9076060185111249, acc: 0.9082661271095276\n"
          ],
          "name": "stdout"
        }
      ]
    },
    {
      "cell_type": "markdown",
      "metadata": {
        "id": "UwDezvr8ovvu"
      },
      "source": [
        "$(i)$ La importancia del tamaño del testeo resulta no ser tan vistos como para el del entrenamiento, pero es también muy relevante tener un cantidad óptima para que podamos confirmar cn buena seguridad que nuestro modelo se ejecutó de buena manera. Los resultados apoyan la anterior afirmación, en tanto que un número grande (mayor al $50\\%$) de datos de testeo nos dan un mínimo loss y grandes valores de $f_1$ y accuracy.\n",
        "\n",
        "$(ii)$ Los socres en cada muestran que en general, después de sobre el grupo de $50\\%$, la medida de loss se acomoda entre $0.3$ y $0.4$, lo cual nos muestra que debe existir cierto número de elementos de testeo que nos permita optimizar este score. Esto resulta ser análogo para $f_1$ y accuracy, ya que en general, después del $50%$, mostraron scores semejantes a $0.9$.\n",
        "\n",
        "$(iii)$ Los resultados nos muestran que resulta ideal tener un buen número de datos de testeo (idealmente en $100\\%$), pero que a partir de un número mayor al $50\\%$, los scores se empiezan a estabilizar, según y como se comento en $(ii)$.\n",
        "\n"
      ]
    },
    {
      "cell_type": "code",
      "metadata": {
        "id": "PDrSjQw7qOdv"
      },
      "source": [
        ""
      ],
      "execution_count": null,
      "outputs": []
    }
  ]
}